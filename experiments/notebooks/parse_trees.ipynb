{
 "cells": [
  {
   "cell_type": "code",
   "execution_count": 15,
   "id": "48f6169f",
   "metadata": {},
   "outputs": [],
   "source": [
    "def load_conll_dataset(filepath):\n",
    "    '''Reads in a conllx file; generates Observation objects\n",
    "    \n",
    "    For each sentence in a conllx file, generates a single Observation\n",
    "    object.\n",
    "\n",
    "    Args:\n",
    "      filepath: the filesystem path to the conll dataset\n",
    "  \n",
    "    Returns:\n",
    "      A list of Observations \n",
    "    '''\n",
    "    observations = []\n",
    "    lines = (x for x in open(filepath))\n",
    "    for buf in generate_lines_for_sent(lines):\n",
    "        conllx_lines = []\n",
    "        for line in buf:\n",
    "            conllx_lines.append(line.strip().split('\\t'))\n",
    "        embeddings = [None for x in range(len(conllx_lines))]\n",
    "        #observation = self.observation_class(*zip(*conllx_lines), embeddings)\n",
    "        #observations.append(observation)\n",
    "    return conllx_lines\n",
    "    #return observations\n",
    "\n",
    "def generate_lines_for_sent(lines):\n",
    "    '''Yields batches of lines describing a sentence in conllx.\n",
    "\n",
    "    Args:\n",
    "      lines: Each line of a conllx file.\n",
    "    Yields:\n",
    "      a list of lines describing a single sentence in conllx.\n",
    "    '''\n",
    "    buf = []\n",
    "    for line in lines:\n",
    "        if line.startswith('#'):\n",
    "            continue\n",
    "        if not line.strip():\n",
    "            if buf:\n",
    "                yield buf\n",
    "                buf = []\n",
    "            else:\n",
    "                continue\n",
    "        else:\n",
    "            buf.append(line.strip())\n",
    "    print(buf)\n",
    "    if buf:\n",
    "        print(count)\n",
    "        yield buf"
   ]
  },
  {
   "cell_type": "code",
   "execution_count": 16,
   "id": "8369dc3f",
   "metadata": {},
   "outputs": [
    {
     "name": "stdout",
     "output_type": "stream",
     "text": [
      "[]\n"
     ]
    }
   ],
   "source": [
    "lines = load_conll_dataset(\"/users/ujan/linguistic-structures/data/raw/Universal Dependencies 2.11/ud-treebanks-v2.11/UD_English-LinES/en_lines-ud-train.conllu\")"
   ]
  },
  {
   "cell_type": "code",
   "execution_count": 14,
   "id": "5d5deb3a",
   "metadata": {},
   "outputs": [
    {
     "data": {
      "text/plain": [
       "12"
      ]
     },
     "execution_count": 14,
     "metadata": {},
     "output_type": "execute_result"
    }
   ],
   "source": [
    "len(lines)"
   ]
  },
  {
   "cell_type": "code",
   "execution_count": 18,
   "id": "fe81752a",
   "metadata": {},
   "outputs": [],
   "source": [
    "import datasets\n",
    "from datasets import load_dataset"
   ]
  },
  {
   "cell_type": "code",
   "execution_count": 21,
   "id": "1d5ac94c",
   "metadata": {},
   "outputs": [
    {
     "name": "stdout",
     "output_type": "stream",
     "text": [
      "Downloading and preparing dataset universal_dependencies/en_lines to /users/ujan/.cache/huggingface/datasets/universal_dependencies/en_lines/2.7.0/1ac001f0e8a0021f19388e810c94599f3ac13cc45d6b5b8c69f7847b2188bdf7...\n"
     ]
    },
    {
     "data": {
      "application/vnd.jupyter.widget-view+json": {
       "model_id": "e75125e58e284fca9fec13fa27af367e",
       "version_major": 2,
       "version_minor": 0
      },
      "text/plain": [
       "Downloading data files:   0%|          | 0/3 [00:00<?, ?it/s]"
      ]
     },
     "metadata": {},
     "output_type": "display_data"
    },
    {
     "data": {
      "application/vnd.jupyter.widget-view+json": {
       "model_id": "b00f6a752e85413abd2ce65d65c07145",
       "version_major": 2,
       "version_minor": 0
      },
      "text/plain": [
       "Downloading data:   0%|          | 0.00/580k [00:00<?, ?B/s]"
      ]
     },
     "metadata": {},
     "output_type": "display_data"
    },
    {
     "data": {
      "application/vnd.jupyter.widget-view+json": {
       "model_id": "85328bbf465b4bf49ec55ebd1a1d8fb4",
       "version_major": 2,
       "version_minor": 0
      },
      "text/plain": [
       "Downloading data:   0%|          | 0.00/199k [00:00<?, ?B/s]"
      ]
     },
     "metadata": {},
     "output_type": "display_data"
    },
    {
     "data": {
      "application/vnd.jupyter.widget-view+json": {
       "model_id": "7d6b0a3b957f4c17aaaaa33e6c7f6fd5",
       "version_major": 2,
       "version_minor": 0
      },
      "text/plain": [
       "Downloading data:   0%|          | 0.00/181k [00:00<?, ?B/s]"
      ]
     },
     "metadata": {},
     "output_type": "display_data"
    },
    {
     "data": {
      "application/vnd.jupyter.widget-view+json": {
       "model_id": "c6a6e21cb41f4525a60757b47d3fccf2",
       "version_major": 2,
       "version_minor": 0
      },
      "text/plain": [
       "Extracting data files:   0%|          | 0/3 [00:00<?, ?it/s]"
      ]
     },
     "metadata": {},
     "output_type": "display_data"
    },
    {
     "data": {
      "application/vnd.jupyter.widget-view+json": {
       "model_id": "",
       "version_major": 2,
       "version_minor": 0
      },
      "text/plain": [
       "Generating train split:   0%|          | 0/3176 [00:00<?, ? examples/s]"
      ]
     },
     "metadata": {},
     "output_type": "display_data"
    },
    {
     "data": {
      "application/vnd.jupyter.widget-view+json": {
       "model_id": "",
       "version_major": 2,
       "version_minor": 0
      },
      "text/plain": [
       "Generating validation split:   0%|          | 0/1032 [00:00<?, ? examples/s]"
      ]
     },
     "metadata": {},
     "output_type": "display_data"
    },
    {
     "data": {
      "application/vnd.jupyter.widget-view+json": {
       "model_id": "db72cc98f16b4844ba7349da2bba4da1",
       "version_major": 2,
       "version_minor": 0
      },
      "text/plain": [
       "Generating test split:   0%|          | 0/1035 [00:00<?, ? examples/s]"
      ]
     },
     "metadata": {},
     "output_type": "display_data"
    },
    {
     "name": "stdout",
     "output_type": "stream",
     "text": [
      "Dataset universal_dependencies downloaded and prepared to /users/ujan/.cache/huggingface/datasets/universal_dependencies/en_lines/2.7.0/1ac001f0e8a0021f19388e810c94599f3ac13cc45d6b5b8c69f7847b2188bdf7. Subsequent calls will reuse this data.\n"
     ]
    },
    {
     "data": {
      "application/vnd.jupyter.widget-view+json": {
       "model_id": "c2ff9549599046b8a1c26721ec6cf132",
       "version_major": 2,
       "version_minor": 0
      },
      "text/plain": [
       "  0%|          | 0/3 [00:00<?, ?it/s]"
      ]
     },
     "metadata": {},
     "output_type": "display_data"
    }
   ],
   "source": [
    "ud_en_lines = load_dataset('universal_dependencies', 'en_lines')"
   ]
  },
  {
   "cell_type": "code",
   "execution_count": 22,
   "id": "985b9905",
   "metadata": {},
   "outputs": [
    {
     "name": "stdout",
     "output_type": "stream",
     "text": [
      "DatasetDict({\n",
      "    train: Dataset({\n",
      "        features: ['idx', 'text', 'tokens', 'lemmas', 'upos', 'xpos', 'feats', 'head', 'deprel', 'deps', 'misc'],\n",
      "        num_rows: 3176\n",
      "    })\n",
      "    validation: Dataset({\n",
      "        features: ['idx', 'text', 'tokens', 'lemmas', 'upos', 'xpos', 'feats', 'head', 'deprel', 'deps', 'misc'],\n",
      "        num_rows: 1032\n",
      "    })\n",
      "    test: Dataset({\n",
      "        features: ['idx', 'text', 'tokens', 'lemmas', 'upos', 'xpos', 'feats', 'head', 'deprel', 'deps', 'misc'],\n",
      "        num_rows: 1035\n",
      "    })\n",
      "})\n"
     ]
    }
   ],
   "source": [
    "print(ud_en_lines)"
   ]
  },
  {
   "cell_type": "code",
   "execution_count": 28,
   "id": "4b934f0f",
   "metadata": {},
   "outputs": [
    {
     "data": {
      "text/plain": [
       "{'idx': 'en_lines-ud-train-doc1-3',\n",
       " 'text': 'Some of the content in this topic may not be applicable to some languages.',\n",
       " 'tokens': ['Some',\n",
       "  'of',\n",
       "  'the',\n",
       "  'content',\n",
       "  'in',\n",
       "  'this',\n",
       "  'topic',\n",
       "  'may',\n",
       "  'not',\n",
       "  'be',\n",
       "  'applicable',\n",
       "  'to',\n",
       "  'some',\n",
       "  'languages',\n",
       "  '.'],\n",
       " 'lemmas': ['some',\n",
       "  'of',\n",
       "  'the',\n",
       "  'content',\n",
       "  'in',\n",
       "  'this',\n",
       "  'topic',\n",
       "  'may',\n",
       "  'not',\n",
       "  'be',\n",
       "  'applicable',\n",
       "  'to',\n",
       "  'some',\n",
       "  'language',\n",
       "  '.'],\n",
       " 'upos': [11, 2, 8, 0, 2, 8, 0, 17, 7, 17, 6, 2, 8, 0, 1],\n",
       " 'xpos': ['IND',\n",
       "  None,\n",
       "  'DEF',\n",
       "  'SG-NOM',\n",
       "  None,\n",
       "  'DEM-SG',\n",
       "  'SG-NOM',\n",
       "  'PRES-AUX',\n",
       "  'NEG',\n",
       "  'INF',\n",
       "  'POS',\n",
       "  None,\n",
       "  'IND',\n",
       "  'PL-NOM',\n",
       "  'Period'],\n",
       " 'feats': [\"{'Case': 'Nom'}\",\n",
       "  'None',\n",
       "  \"{'Definite': 'Def', 'PronType': 'Art'}\",\n",
       "  \"{'Number': 'Sing'}\",\n",
       "  'None',\n",
       "  \"{'Number': 'Sing', 'PronType': 'Dem'}\",\n",
       "  \"{'Number': 'Sing'}\",\n",
       "  \"{'VerbForm': 'Fin'}\",\n",
       "  'None',\n",
       "  \"{'VerbForm': 'Inf'}\",\n",
       "  \"{'Degree': 'Pos'}\",\n",
       "  'None',\n",
       "  'None',\n",
       "  \"{'Number': 'Plur'}\",\n",
       "  'None'],\n",
       " 'head': ['11',\n",
       "  '4',\n",
       "  '4',\n",
       "  '1',\n",
       "  '7',\n",
       "  '7',\n",
       "  '4',\n",
       "  '11',\n",
       "  '11',\n",
       "  '11',\n",
       "  '0',\n",
       "  '14',\n",
       "  '14',\n",
       "  '11',\n",
       "  '11'],\n",
       " 'deprel': ['nsubj',\n",
       "  'case',\n",
       "  'det',\n",
       "  'nmod',\n",
       "  'case',\n",
       "  'det',\n",
       "  'nmod',\n",
       "  'aux',\n",
       "  'advmod',\n",
       "  'cop',\n",
       "  'root',\n",
       "  'case',\n",
       "  'det',\n",
       "  'nmod',\n",
       "  'punct'],\n",
       " 'deps': ['None',\n",
       "  'None',\n",
       "  'None',\n",
       "  'None',\n",
       "  'None',\n",
       "  'None',\n",
       "  'None',\n",
       "  'None',\n",
       "  'None',\n",
       "  'None',\n",
       "  'None',\n",
       "  'None',\n",
       "  'None',\n",
       "  'None',\n",
       "  'None'],\n",
       " 'misc': ['None',\n",
       "  'None',\n",
       "  'None',\n",
       "  'None',\n",
       "  'None',\n",
       "  'None',\n",
       "  'None',\n",
       "  'None',\n",
       "  'None',\n",
       "  'None',\n",
       "  'None',\n",
       "  'None',\n",
       "  'None',\n",
       "  \"{'SpaceAfter': 'No'}\",\n",
       "  'None']}"
      ]
     },
     "execution_count": 28,
     "metadata": {},
     "output_type": "execute_result"
    }
   ],
   "source": [
    "ud_en_lines['train'][2]"
   ]
  },
  {
   "cell_type": "code",
   "execution_count": null,
   "id": "a300552f",
   "metadata": {},
   "outputs": [],
   "source": []
  }
 ],
 "metadata": {
  "kernelspec": {
   "display_name": "Python 3 (ipykernel)",
   "language": "python",
   "name": "python3"
  },
  "language_info": {
   "codemirror_mode": {
    "name": "ipython",
    "version": 3
   },
   "file_extension": ".py",
   "mimetype": "text/x-python",
   "name": "python",
   "nbconvert_exporter": "python",
   "pygments_lexer": "ipython3",
   "version": "3.10.9"
  }
 },
 "nbformat": 4,
 "nbformat_minor": 5
}
