{
 "cells": [
  {
   "cell_type": "code",
   "execution_count": 1,
   "id": "fe81752a",
   "metadata": {},
   "outputs": [],
   "source": [
    "import datasets\n",
    "from datasets import load_dataset\n",
    "import numpy as np\n",
    "from scipy.sparse.csgraph import floyd_warshall"
   ]
  },
  {
   "cell_type": "code",
   "execution_count": 2,
   "id": "4035b09c",
   "metadata": {},
   "outputs": [],
   "source": [
    "en_treebanks = ['en_esl', 'en_ewt', 'en_gum', 'en_gumreddit', 'en_lines', 'en_partut', 'en_pronouns', 'en_pud']"
   ]
  },
  {
   "cell_type": "code",
   "execution_count": 3,
   "id": "1d5ac94c",
   "metadata": {},
   "outputs": [
    {
     "name": "stderr",
     "output_type": "stream",
     "text": [
      "Found cached dataset universal_dependencies (/users/ujan/.cache/huggingface/datasets/universal_dependencies/en_pud/2.7.0/1ac001f0e8a0021f19388e810c94599f3ac13cc45d6b5b8c69f7847b2188bdf7)\n"
     ]
    },
    {
     "data": {
      "application/vnd.jupyter.widget-view+json": {
       "model_id": "a80b03df7d6f4651bbdbf35cac27c91d",
       "version_major": 2,
       "version_minor": 0
      },
      "text/plain": [
       "  0%|          | 0/1 [00:00<?, ?it/s]"
      ]
     },
     "metadata": {},
     "output_type": "display_data"
    }
   ],
   "source": [
    "dataset = load_dataset('universal_dependencies', en_treebanks[-1])"
   ]
  },
  {
   "cell_type": "code",
   "execution_count": 32,
   "id": "7cbd5c83",
   "metadata": {},
   "outputs": [
    {
     "name": "stdout",
     "output_type": "stream",
     "text": [
      "Downloading and preparing dataset universal_dependencies/de_pud to /users/ujan/.cache/huggingface/datasets/universal_dependencies/de_pud/2.7.0/1ac001f0e8a0021f19388e810c94599f3ac13cc45d6b5b8c69f7847b2188bdf7...\n"
     ]
    },
    {
     "data": {
      "application/vnd.jupyter.widget-view+json": {
       "model_id": "773e6f7b929b4967935d9d4a64c7536b",
       "version_major": 2,
       "version_minor": 0
      },
      "text/plain": [
       "Downloading data files:   0%|          | 0/1 [00:00<?, ?it/s]"
      ]
     },
     "metadata": {},
     "output_type": "display_data"
    },
    {
     "data": {
      "application/vnd.jupyter.widget-view+json": {
       "model_id": "cce79a0eab244a97a633ed3b5abeff21",
       "version_major": 2,
       "version_minor": 0
      },
      "text/plain": [
       "Downloading data:   0%|          | 0.00/339k [00:00<?, ?B/s]"
      ]
     },
     "metadata": {},
     "output_type": "display_data"
    },
    {
     "data": {
      "application/vnd.jupyter.widget-view+json": {
       "model_id": "4cf0e778e24741e7ac8e6f1258d95923",
       "version_major": 2,
       "version_minor": 0
      },
      "text/plain": [
       "Extracting data files:   0%|          | 0/1 [00:00<?, ?it/s]"
      ]
     },
     "metadata": {},
     "output_type": "display_data"
    },
    {
     "data": {
      "application/vnd.jupyter.widget-view+json": {
       "model_id": "d8c1d229809d43ac9206f6fdb0c30223",
       "version_major": 2,
       "version_minor": 0
      },
      "text/plain": [
       "Generating test split:   0%|          | 0/1000 [00:00<?, ? examples/s]"
      ]
     },
     "metadata": {},
     "output_type": "display_data"
    },
    {
     "name": "stdout",
     "output_type": "stream",
     "text": [
      "Dataset universal_dependencies downloaded and prepared to /users/ujan/.cache/huggingface/datasets/universal_dependencies/de_pud/2.7.0/1ac001f0e8a0021f19388e810c94599f3ac13cc45d6b5b8c69f7847b2188bdf7. Subsequent calls will reuse this data.\n"
     ]
    },
    {
     "data": {
      "application/vnd.jupyter.widget-view+json": {
       "model_id": "a49f3a2e9198484c99257c4fe59e2b47",
       "version_major": 2,
       "version_minor": 0
      },
      "text/plain": [
       "  0%|          | 0/1 [00:00<?, ?it/s]"
      ]
     },
     "metadata": {},
     "output_type": "display_data"
    },
    {
     "data": {
      "text/plain": [
       "DatasetDict({\n",
       "    test: Dataset({\n",
       "        features: ['idx', 'text', 'tokens', 'lemmas', 'upos', 'xpos', 'feats', 'head', 'deprel', 'deps', 'misc'],\n",
       "        num_rows: 1000\n",
       "    })\n",
       "})"
      ]
     },
     "execution_count": 32,
     "metadata": {},
     "output_type": "execute_result"
    }
   ],
   "source": [
    "dataset1 = load_dataset('universal_dependencies', 'de_pud')\n",
    "dataset1"
   ]
  },
  {
   "cell_type": "code",
   "execution_count": 34,
   "id": "b999b1a2",
   "metadata": {
    "collapsed": true
   },
   "outputs": [
    {
     "data": {
      "text/plain": [
       "{'idx': 'n01001011',\n",
       " 'text': '„Ein Großteil des digitalen Übergangs ist für die Vereinigten Staaten neu, ein friedlicher Machtwechsel hingegen nicht“, schrieb Obamas Sonderberaterin Kori Schulman am Montag in einem Blogeintrag.',\n",
       " 'tokens': ['„',\n",
       "  'Ein',\n",
       "  'Großteil',\n",
       "  'des',\n",
       "  'digitalen',\n",
       "  'Übergangs',\n",
       "  'ist',\n",
       "  'für',\n",
       "  'die',\n",
       "  'Vereinigten',\n",
       "  'Staaten',\n",
       "  'neu',\n",
       "  ',',\n",
       "  'ein',\n",
       "  'friedlicher',\n",
       "  'Machtwechsel',\n",
       "  'hingegen',\n",
       "  'nicht',\n",
       "  '“',\n",
       "  ',',\n",
       "  'schrieb',\n",
       "  'Obamas',\n",
       "  'Sonderberaterin',\n",
       "  'Kori',\n",
       "  'Schulman',\n",
       "  'am',\n",
       "  'an',\n",
       "  'dem',\n",
       "  'Montag',\n",
       "  'in',\n",
       "  'einem',\n",
       "  'Blogeintrag',\n",
       "  '.'],\n",
       " 'lemmas': ['„',\n",
       "  'ein',\n",
       "  'Großteil',\n",
       "  'der',\n",
       "  'digital',\n",
       "  'Übergang',\n",
       "  'sein',\n",
       "  'für',\n",
       "  'der',\n",
       "  'vereinigt',\n",
       "  'Staat',\n",
       "  'neu',\n",
       "  ',',\n",
       "  'ein',\n",
       "  'friedlich',\n",
       "  'Machtwechsel',\n",
       "  'hingegen',\n",
       "  'nicht',\n",
       "  '“',\n",
       "  ',',\n",
       "  'schreiben',\n",
       "  'Obama',\n",
       "  'Sonderberaterin',\n",
       "  'Kori',\n",
       "  'Schulman',\n",
       "  '_',\n",
       "  'an',\n",
       "  'der',\n",
       "  'Montag',\n",
       "  'in',\n",
       "  'ein',\n",
       "  'Blogeintrag',\n",
       "  '.'],\n",
       " 'upos': [1,\n",
       "  8,\n",
       "  0,\n",
       "  8,\n",
       "  6,\n",
       "  0,\n",
       "  17,\n",
       "  2,\n",
       "  8,\n",
       "  6,\n",
       "  0,\n",
       "  6,\n",
       "  1,\n",
       "  8,\n",
       "  6,\n",
       "  0,\n",
       "  14,\n",
       "  14,\n",
       "  1,\n",
       "  1,\n",
       "  16,\n",
       "  10,\n",
       "  0,\n",
       "  10,\n",
       "  10,\n",
       "  13,\n",
       "  2,\n",
       "  8,\n",
       "  0,\n",
       "  2,\n",
       "  8,\n",
       "  0,\n",
       "  1],\n",
       " 'xpos': ['``',\n",
       "  'DT',\n",
       "  'NN',\n",
       "  'DT',\n",
       "  'JJ',\n",
       "  'NN',\n",
       "  'VBC',\n",
       "  'IN',\n",
       "  'DT',\n",
       "  'JJ',\n",
       "  'NN',\n",
       "  'JJ',\n",
       "  ',',\n",
       "  'DT',\n",
       "  'JJ',\n",
       "  'NN',\n",
       "  'RB',\n",
       "  'RB',\n",
       "  \"''\",\n",
       "  ',',\n",
       "  'VBC',\n",
       "  'NNP',\n",
       "  'NN',\n",
       "  'NNP',\n",
       "  'NNP',\n",
       "  None,\n",
       "  'APPR',\n",
       "  'ART',\n",
       "  'NN',\n",
       "  'IN',\n",
       "  'DT',\n",
       "  'NN',\n",
       "  '.'],\n",
       " 'feats': ['None',\n",
       "  \"{'Case': 'Nom', 'Definite': 'Ind', 'Gender': 'Masc', 'Number': 'Sing', 'Person': '3'}\",\n",
       "  \"{'Case': 'Nom', 'Gender': 'Masc', 'Number': 'Sing', 'Person': '3'}\",\n",
       "  \"{'Case': 'Gen', 'Definite': 'Def', 'Gender': 'Masc', 'Number': 'Sing', 'Person': '3'}\",\n",
       "  \"{'Case': 'Gen', 'Degree': 'Pos', 'Gender': 'Masc', 'Number': 'Sing', 'Person': '3'}\",\n",
       "  \"{'Case': 'Gen', 'Gender': 'Masc', 'Number': 'Sing', 'Person': '3'}\",\n",
       "  \"{'Mood': 'Ind', 'Number': 'Sing', 'Person': '3', 'Tense': 'Pres'}\",\n",
       "  'None',\n",
       "  \"{'Case': 'Acc', 'Definite': 'Def', 'Gender': 'Masc', 'Number': 'Plur', 'Person': '3'}\",\n",
       "  \"{'Case': 'Acc', 'Degree': 'Pos', 'Gender': 'Masc', 'Number': 'Plur', 'Person': '3'}\",\n",
       "  \"{'Case': 'Acc', 'Gender': 'Masc', 'Number': 'Plur', 'Person': '3'}\",\n",
       "  \"{'Degree': 'Pos'}\",\n",
       "  'None',\n",
       "  \"{'Case': 'Nom', 'Definite': 'Ind', 'Gender': 'Masc', 'Number': 'Sing', 'Person': '3'}\",\n",
       "  \"{'Case': 'Nom', 'Degree': 'Pos', 'Gender': 'Masc', 'Number': 'Sing', 'Person': '3'}\",\n",
       "  \"{'Case': 'Nom', 'Gender': 'Masc', 'Number': 'Sing', 'Person': '3'}\",\n",
       "  \"{'Degree': 'Pos'}\",\n",
       "  \"{'Degree': 'Pos', 'Polarity': 'Neg'}\",\n",
       "  'None',\n",
       "  'None',\n",
       "  \"{'Mood': 'Ind', 'Number': 'Sing', 'Person': '3', 'Tense': 'Past'}\",\n",
       "  \"{'Case': 'Gen', 'Gender': 'Masc', 'Number': 'Sing', 'Person': '3'}\",\n",
       "  \"{'Case': 'Nom', 'Gender': 'Fem', 'Number': 'Sing', 'Person': '3'}\",\n",
       "  \"{'Case': 'Nom', 'Gender': 'Fem', 'Number': 'Sing', 'Person': '3'}\",\n",
       "  \"{'Case': 'Nom', 'Gender': 'Fem', 'Number': 'Sing', 'Person': '3'}\",\n",
       "  'None',\n",
       "  'None',\n",
       "  \"{'Case': 'Dat', 'Definite': 'Def', 'Gender': 'Masc', 'Number': 'Sing', 'Person': '3'}\",\n",
       "  \"{'Case': 'Dat', 'Gender': 'Masc', 'Number': 'Sing', 'Person': '3'}\",\n",
       "  'None',\n",
       "  \"{'Case': 'Dat', 'Definite': 'Ind', 'Gender': 'Masc', 'Number': 'Sing', 'Person': '3'}\",\n",
       "  \"{'Case': 'Dat', 'Gender': 'Masc', 'Number': 'Sing', 'Person': '3'}\",\n",
       "  'None'],\n",
       " 'head': ['12',\n",
       "  '3',\n",
       "  '12',\n",
       "  '6',\n",
       "  '6',\n",
       "  '3',\n",
       "  '12',\n",
       "  '11',\n",
       "  '11',\n",
       "  '11',\n",
       "  '12',\n",
       "  '21',\n",
       "  '16',\n",
       "  '16',\n",
       "  '16',\n",
       "  '12',\n",
       "  '12',\n",
       "  '12',\n",
       "  '12',\n",
       "  '12',\n",
       "  '0',\n",
       "  '23',\n",
       "  '21',\n",
       "  '23',\n",
       "  '24',\n",
       "  'None',\n",
       "  '28',\n",
       "  '28',\n",
       "  '21',\n",
       "  '31',\n",
       "  '31',\n",
       "  '21',\n",
       "  '21'],\n",
       " 'deprel': ['punct',\n",
       "  'det',\n",
       "  'nsubj',\n",
       "  'det',\n",
       "  'amod',\n",
       "  'nmod',\n",
       "  'cop',\n",
       "  'case',\n",
       "  'det',\n",
       "  'amod',\n",
       "  'obl',\n",
       "  'ccomp',\n",
       "  'punct',\n",
       "  'det',\n",
       "  'amod',\n",
       "  'conj',\n",
       "  'advmod',\n",
       "  'advmod',\n",
       "  'punct',\n",
       "  'punct',\n",
       "  'root',\n",
       "  'nmod:poss',\n",
       "  'nsubj',\n",
       "  'appos',\n",
       "  'flat:name',\n",
       "  '_',\n",
       "  'case',\n",
       "  'det',\n",
       "  'obl',\n",
       "  'case',\n",
       "  'det',\n",
       "  'obl',\n",
       "  'punct'],\n",
       " 'deps': ['None',\n",
       "  'None',\n",
       "  'None',\n",
       "  'None',\n",
       "  'None',\n",
       "  'None',\n",
       "  'None',\n",
       "  'None',\n",
       "  'None',\n",
       "  'None',\n",
       "  'None',\n",
       "  'None',\n",
       "  'None',\n",
       "  'None',\n",
       "  'None',\n",
       "  'None',\n",
       "  'None',\n",
       "  'None',\n",
       "  'None',\n",
       "  'None',\n",
       "  'None',\n",
       "  'None',\n",
       "  'None',\n",
       "  'None',\n",
       "  'None',\n",
       "  'None',\n",
       "  'None',\n",
       "  'None',\n",
       "  'None',\n",
       "  'None',\n",
       "  'None',\n",
       "  'None',\n",
       "  'None'],\n",
       " 'misc': [\"{'SpaceAfter': 'No'}\",\n",
       "  'None',\n",
       "  'None',\n",
       "  'None',\n",
       "  \"{'InflectionType': 'Weak'}\",\n",
       "  'None',\n",
       "  'None',\n",
       "  'None',\n",
       "  'None',\n",
       "  \"{'InflectionType': 'Weak', 'Proper': 'True'}\",\n",
       "  \"{'Proper': 'True'}\",\n",
       "  \"{'SpaceAfter': 'No'}\",\n",
       "  'None',\n",
       "  'None',\n",
       "  \"{'InflectionType': 'Mixed'}\",\n",
       "  \"{'orig_deprel': 'nsubj'}\",\n",
       "  'None',\n",
       "  \"{'SpaceAfter': 'No'}\",\n",
       "  \"{'SpaceAfter': 'No'}\",\n",
       "  'None',\n",
       "  'None',\n",
       "  'None',\n",
       "  'None',\n",
       "  'None',\n",
       "  'None',\n",
       "  'None',\n",
       "  'None',\n",
       "  'None',\n",
       "  'None',\n",
       "  'None',\n",
       "  'None',\n",
       "  \"{'SpaceAfter': 'No'}\",\n",
       "  'None']}"
      ]
     },
     "execution_count": 34,
     "metadata": {},
     "output_type": "execute_result"
    }
   ],
   "source": [
    "dataset1['test'][0]"
   ]
  },
  {
   "cell_type": "code",
   "execution_count": 4,
   "id": "985b9905",
   "metadata": {},
   "outputs": [
    {
     "data": {
      "text/plain": [
       "DatasetDict({\n",
       "    test: Dataset({\n",
       "        features: ['idx', 'text', 'tokens', 'lemmas', 'upos', 'xpos', 'feats', 'head', 'deprel', 'deps', 'misc'],\n",
       "        num_rows: 1000\n",
       "    })\n",
       "})"
      ]
     },
     "execution_count": 4,
     "metadata": {},
     "output_type": "execute_result"
    }
   ],
   "source": [
    "dataset"
   ]
  },
  {
   "cell_type": "code",
   "execution_count": 5,
   "id": "e58452f2",
   "metadata": {},
   "outputs": [],
   "source": [
    "from transformers import AutoTokenizer\n",
    "\n",
    "tokenizer = AutoTokenizer.from_pretrained('xlm-roberta-base')"
   ]
  },
  {
   "cell_type": "code",
   "execution_count": 35,
   "id": "4245f8b2",
   "metadata": {},
   "outputs": [
    {
     "name": "stdout",
     "output_type": "stream",
     "text": [
      "['13', '13', '4', '13', '6', '13', '9', '9', '13', '12', '12', '9', '0']\n",
      "['13', '13', '4', '13', '6', '13', '9', '9', '13', '12', '12', '9', '0']\n",
      "['13', '13', '4', '13', '6', '13', '9', '9', '13', '12', '12', '9', '0']\n",
      "['13', '13', '4', '13', '6', '13', '9', '9', '13', '12', '12', '9', '0']\n",
      "['13', '13', '4', '13', '6', '13', '9', '9', '13', '12', '12', '9', '0']\n",
      "['2', '0', '4', '2', '6', '4']\n"
     ]
    }
   ],
   "source": [
    "for x in dataset1['test']:\n",
    "    head = x['head']\n",
    "    for h in head:\n",
    "        if h.isdigit():\n",
    "            if len(head) == int(h):\n",
    "                print(head)\n",
    "                "
   ]
  },
  {
   "cell_type": "code",
   "execution_count": 40,
   "id": "dd6fef1d",
   "metadata": {},
   "outputs": [
    {
     "data": {
      "application/vnd.jupyter.widget-view+json": {
       "model_id": "e531d6f307e04a229eee275b3d92b7a6",
       "version_major": 2,
       "version_minor": 0
      },
      "text/plain": [
       "  0%|          | 0/1 [00:00<?, ?ba/s]"
      ]
     },
     "metadata": {},
     "output_type": "display_data"
    }
   ],
   "source": [
    "dataset = dataset.filter(lambda example: all(h.isdigit() for h in example['head']))"
   ]
  },
  {
   "cell_type": "code",
   "execution_count": 41,
   "id": "9f99c199",
   "metadata": {},
   "outputs": [],
   "source": [
    "for x in dataset['test']:\n",
    "    head = x['head']\n",
    "    for h in head:\n",
    "        if not h.isdigit():\n",
    "            #print('not digit')\n",
    "            #print(h)\n",
    "            print(head)\n",
    "            print(len(head))\n",
    "            break"
   ]
  },
  {
   "cell_type": "code",
   "execution_count": 49,
   "id": "309d8e39",
   "metadata": {},
   "outputs": [],
   "source": [
    "dataset = dataset.shuffle(seed=42)"
   ]
  },
  {
   "cell_type": "code",
   "execution_count": 50,
   "id": "f70b80f9",
   "metadata": {},
   "outputs": [
    {
     "data": {
      "application/vnd.jupyter.widget-view+json": {
       "model_id": "2d90fa658a7c4c63a5274e9f7c8dd1d3",
       "version_major": 2,
       "version_minor": 0
      },
      "text/plain": [
       "  0%|          | 0/249 [00:00<?, ?ba/s]"
      ]
     },
     "metadata": {},
     "output_type": "display_data"
    },
    {
     "name": "stdout",
     "output_type": "stream",
     "text": [
      "['2', '10', '5', '5', '2', '9', '9', '9', '2', '0', '13', '13', '10', '17', '17', '17', '13', '23', '21', '21', '23', '23', '10', '10']\n",
      "24\n",
      "graph\n",
      "[[0. 1. 0. 0. 0. 0. 0. 0. 0. 0. 0. 0. 0. 0. 0. 0. 0. 0. 0. 0. 0. 0. 0. 0.]\n",
      " [0. 0. 0. 0. 0. 0. 0. 0. 0. 1. 0. 0. 0. 0. 0. 0. 0. 0. 0. 0. 0. 0. 0. 0.]\n",
      " [0. 0. 0. 0. 1. 0. 0. 0. 0. 0. 0. 0. 0. 0. 0. 0. 0. 0. 0. 0. 0. 0. 0. 0.]\n",
      " [0. 0. 0. 0. 1. 0. 0. 0. 0. 0. 0. 0. 0. 0. 0. 0. 0. 0. 0. 0. 0. 0. 0. 0.]\n",
      " [0. 1. 0. 0. 0. 0. 0. 0. 0. 0. 0. 0. 0. 0. 0. 0. 0. 0. 0. 0. 0. 0. 0. 0.]\n",
      " [0. 0. 0. 0. 0. 0. 0. 0. 1. 0. 0. 0. 0. 0. 0. 0. 0. 0. 0. 0. 0. 0. 0. 0.]\n",
      " [0. 0. 0. 0. 0. 0. 0. 0. 1. 0. 0. 0. 0. 0. 0. 0. 0. 0. 0. 0. 0. 0. 0. 0.]\n",
      " [0. 0. 0. 0. 0. 0. 0. 0. 1. 0. 0. 0. 0. 0. 0. 0. 0. 0. 0. 0. 0. 0. 0. 0.]\n",
      " [0. 1. 0. 0. 0. 0. 0. 0. 0. 0. 0. 0. 0. 0. 0. 0. 0. 0. 0. 0. 0. 0. 0. 0.]\n",
      " [0. 0. 0. 0. 0. 0. 0. 0. 0. 0. 0. 0. 0. 0. 0. 0. 0. 0. 0. 0. 0. 0. 0. 1.]\n",
      " [0. 0. 0. 0. 0. 0. 0. 0. 0. 0. 0. 0. 1. 0. 0. 0. 0. 0. 0. 0. 0. 0. 0. 0.]\n",
      " [0. 0. 0. 0. 0. 0. 0. 0. 0. 0. 0. 0. 1. 0. 0. 0. 0. 0. 0. 0. 0. 0. 0. 0.]\n",
      " [0. 0. 0. 0. 0. 0. 0. 0. 0. 1. 0. 0. 0. 0. 0. 0. 0. 0. 0. 0. 0. 0. 0. 0.]\n",
      " [0. 0. 0. 0. 0. 0. 0. 0. 0. 0. 0. 0. 0. 0. 0. 0. 1. 0. 0. 0. 0. 0. 0. 0.]\n",
      " [0. 0. 0. 0. 0. 0. 0. 0. 0. 0. 0. 0. 0. 0. 0. 0. 1. 0. 0. 0. 0. 0. 0. 0.]\n",
      " [0. 0. 0. 0. 0. 0. 0. 0. 0. 0. 0. 0. 0. 0. 0. 0. 1. 0. 0. 0. 0. 0. 0. 0.]\n",
      " [0. 0. 0. 0. 0. 0. 0. 0. 0. 0. 0. 0. 1. 0. 0. 0. 0. 0. 0. 0. 0. 0. 0. 0.]\n",
      " [0. 0. 0. 0. 0. 0. 0. 0. 0. 0. 0. 0. 0. 0. 0. 0. 0. 0. 0. 0. 0. 0. 1. 0.]\n",
      " [0. 0. 0. 0. 0. 0. 0. 0. 0. 0. 0. 0. 0. 0. 0. 0. 0. 0. 0. 0. 1. 0. 0. 0.]\n",
      " [0. 0. 0. 0. 0. 0. 0. 0. 0. 0. 0. 0. 0. 0. 0. 0. 0. 0. 0. 0. 1. 0. 0. 0.]\n",
      " [0. 0. 0. 0. 0. 0. 0. 0. 0. 0. 0. 0. 0. 0. 0. 0. 0. 0. 0. 0. 0. 0. 1. 0.]\n",
      " [0. 0. 0. 0. 0. 0. 0. 0. 0. 0. 0. 0. 0. 0. 0. 0. 0. 0. 0. 0. 0. 0. 1. 0.]\n",
      " [0. 0. 0. 0. 0. 0. 0. 0. 0. 1. 0. 0. 0. 0. 0. 0. 0. 0. 0. 0. 0. 0. 0. 0.]\n",
      " [0. 0. 0. 0. 0. 0. 0. 0. 0. 1. 0. 0. 0. 0. 0. 0. 0. 0. 0. 0. 0. 0. 0. 0.]]\n",
      "dist matrix\n",
      "[[0. 1. 3. 3. 2. 3. 3. 3. 2. 2. 4. 4. 3. 5. 5. 5. 4. 4. 5. 5. 4. 4. 3. 3.]\n",
      " [1. 0. 2. 2. 1. 2. 2. 2. 1. 1. 3. 3. 2. 4. 4. 4. 3. 3. 4. 4. 3. 3. 2. 2.]\n",
      " [3. 2. 0. 2. 1. 4. 4. 4. 3. 3. 5. 5. 4. 6. 6. 6. 5. 5. 6. 6. 5. 5. 4. 4.]\n",
      " [3. 2. 2. 0. 1. 4. 4. 4. 3. 3. 5. 5. 4. 6. 6. 6. 5. 5. 6. 6. 5. 5. 4. 4.]\n",
      " [2. 1. 1. 1. 0. 3. 3. 3. 2. 2. 4. 4. 3. 5. 5. 5. 4. 4. 5. 5. 4. 4. 3. 3.]\n",
      " [3. 2. 4. 4. 3. 0. 2. 2. 1. 3. 5. 5. 4. 6. 6. 6. 5. 5. 6. 6. 5. 5. 4. 4.]\n",
      " [3. 2. 4. 4. 3. 2. 0. 2. 1. 3. 5. 5. 4. 6. 6. 6. 5. 5. 6. 6. 5. 5. 4. 4.]\n",
      " [3. 2. 4. 4. 3. 2. 2. 0. 1. 3. 5. 5. 4. 6. 6. 6. 5. 5. 6. 6. 5. 5. 4. 4.]\n",
      " [2. 1. 3. 3. 2. 1. 1. 1. 0. 2. 4. 4. 3. 5. 5. 5. 4. 4. 5. 5. 4. 4. 3. 3.]\n",
      " [2. 1. 3. 3. 2. 3. 3. 3. 2. 0. 2. 2. 1. 3. 3. 3. 2. 2. 3. 3. 2. 2. 1. 1.]\n",
      " [4. 3. 5. 5. 4. 5. 5. 5. 4. 2. 0. 2. 1. 3. 3. 3. 2. 4. 5. 5. 4. 4. 3. 3.]\n",
      " [4. 3. 5. 5. 4. 5. 5. 5. 4. 2. 2. 0. 1. 3. 3. 3. 2. 4. 5. 5. 4. 4. 3. 3.]\n",
      " [3. 2. 4. 4. 3. 4. 4. 4. 3. 1. 1. 1. 0. 2. 2. 2. 1. 3. 4. 4. 3. 3. 2. 2.]\n",
      " [5. 4. 6. 6. 5. 6. 6. 6. 5. 3. 3. 3. 2. 0. 2. 2. 1. 5. 6. 6. 5. 5. 4. 4.]\n",
      " [5. 4. 6. 6. 5. 6. 6. 6. 5. 3. 3. 3. 2. 2. 0. 2. 1. 5. 6. 6. 5. 5. 4. 4.]\n",
      " [5. 4. 6. 6. 5. 6. 6. 6. 5. 3. 3. 3. 2. 2. 2. 0. 1. 5. 6. 6. 5. 5. 4. 4.]\n",
      " [4. 3. 5. 5. 4. 5. 5. 5. 4. 2. 2. 2. 1. 1. 1. 1. 0. 4. 5. 5. 4. 4. 3. 3.]\n",
      " [4. 3. 5. 5. 4. 5. 5. 5. 4. 2. 4. 4. 3. 5. 5. 5. 4. 0. 3. 3. 2. 2. 1. 3.]\n",
      " [5. 4. 6. 6. 5. 6. 6. 6. 5. 3. 5. 5. 4. 6. 6. 6. 5. 3. 0. 2. 1. 3. 2. 4.]\n",
      " [5. 4. 6. 6. 5. 6. 6. 6. 5. 3. 5. 5. 4. 6. 6. 6. 5. 3. 2. 0. 1. 3. 2. 4.]\n",
      " [4. 3. 5. 5. 4. 5. 5. 5. 4. 2. 4. 4. 3. 5. 5. 5. 4. 2. 1. 1. 0. 2. 1. 3.]\n",
      " [4. 3. 5. 5. 4. 5. 5. 5. 4. 2. 4. 4. 3. 5. 5. 5. 4. 2. 3. 3. 2. 0. 1. 3.]\n",
      " [3. 2. 4. 4. 3. 4. 4. 4. 3. 1. 3. 3. 2. 4. 4. 4. 3. 1. 2. 2. 1. 1. 0. 2.]\n",
      " [3. 2. 4. 4. 3. 4. 4. 4. 3. 1. 3. 3. 2. 4. 4. 4. 3. 3. 4. 4. 3. 3. 2. 0.]]\n"
     ]
    },
    {
     "ename": "RuntimeError",
     "evalue": "No active exception to reraise",
     "output_type": "error",
     "traceback": [
      "\u001b[0;31m---------------------------------------------------------------------------\u001b[0m",
      "\u001b[0;31mRuntimeError\u001b[0m                              Traceback (most recent call last)",
      "Cell \u001b[0;32mIn[50], line 28\u001b[0m\n\u001b[1;32m     24\u001b[0m         \u001b[38;5;28;01mraise\u001b[39;00m\n\u001b[1;32m     26\u001b[0m     \u001b[38;5;66;03m# compute adj matrix\u001b[39;00m\n\u001b[0;32m---> 28\u001b[0m \u001b[43mdataset\u001b[49m\u001b[38;5;241;43m.\u001b[39;49m\u001b[43mmap\u001b[49m\u001b[43m(\u001b[49m\u001b[43mdistance_map\u001b[49m\u001b[43m,\u001b[49m\u001b[43m \u001b[49m\u001b[43mbatched\u001b[49m\u001b[38;5;241;43m=\u001b[39;49m\u001b[38;5;28;43;01mTrue\u001b[39;49;00m\u001b[43m,\u001b[49m\u001b[43m \u001b[49m\u001b[43mbatch_size\u001b[49m\u001b[38;5;241;43m=\u001b[39;49m\u001b[38;5;241;43m4\u001b[39;49m\u001b[43m)\u001b[49m\n",
      "File \u001b[0;32m/Users/ujan/opt/anaconda3/envs/x-transfer/lib/python3.10/site-packages/datasets/dataset_dict.py:816\u001b[0m, in \u001b[0;36mDatasetDict.map\u001b[0;34m(self, function, with_indices, with_rank, input_columns, batched, batch_size, drop_last_batch, remove_columns, keep_in_memory, load_from_cache_file, cache_file_names, writer_batch_size, features, disable_nullable, fn_kwargs, num_proc, desc)\u001b[0m\n\u001b[1;32m    813\u001b[0m \u001b[38;5;28;01mif\u001b[39;00m cache_file_names \u001b[38;5;129;01mis\u001b[39;00m \u001b[38;5;28;01mNone\u001b[39;00m:\n\u001b[1;32m    814\u001b[0m     cache_file_names \u001b[38;5;241m=\u001b[39m {k: \u001b[38;5;28;01mNone\u001b[39;00m \u001b[38;5;28;01mfor\u001b[39;00m k \u001b[38;5;129;01min\u001b[39;00m \u001b[38;5;28mself\u001b[39m}\n\u001b[1;32m    815\u001b[0m \u001b[38;5;28;01mreturn\u001b[39;00m DatasetDict(\n\u001b[0;32m--> 816\u001b[0m     {\n\u001b[1;32m    817\u001b[0m         k: dataset\u001b[38;5;241m.\u001b[39mmap(\n\u001b[1;32m    818\u001b[0m             function\u001b[38;5;241m=\u001b[39mfunction,\n\u001b[1;32m    819\u001b[0m             with_indices\u001b[38;5;241m=\u001b[39mwith_indices,\n\u001b[1;32m    820\u001b[0m             with_rank\u001b[38;5;241m=\u001b[39mwith_rank,\n\u001b[1;32m    821\u001b[0m             input_columns\u001b[38;5;241m=\u001b[39minput_columns,\n\u001b[1;32m    822\u001b[0m             batched\u001b[38;5;241m=\u001b[39mbatched,\n\u001b[1;32m    823\u001b[0m             batch_size\u001b[38;5;241m=\u001b[39mbatch_size,\n\u001b[1;32m    824\u001b[0m             drop_last_batch\u001b[38;5;241m=\u001b[39mdrop_last_batch,\n\u001b[1;32m    825\u001b[0m             remove_columns\u001b[38;5;241m=\u001b[39mremove_columns,\n\u001b[1;32m    826\u001b[0m             keep_in_memory\u001b[38;5;241m=\u001b[39mkeep_in_memory,\n\u001b[1;32m    827\u001b[0m             load_from_cache_file\u001b[38;5;241m=\u001b[39mload_from_cache_file,\n\u001b[1;32m    828\u001b[0m             cache_file_name\u001b[38;5;241m=\u001b[39mcache_file_names[k],\n\u001b[1;32m    829\u001b[0m             writer_batch_size\u001b[38;5;241m=\u001b[39mwriter_batch_size,\n\u001b[1;32m    830\u001b[0m             features\u001b[38;5;241m=\u001b[39mfeatures,\n\u001b[1;32m    831\u001b[0m             disable_nullable\u001b[38;5;241m=\u001b[39mdisable_nullable,\n\u001b[1;32m    832\u001b[0m             fn_kwargs\u001b[38;5;241m=\u001b[39mfn_kwargs,\n\u001b[1;32m    833\u001b[0m             num_proc\u001b[38;5;241m=\u001b[39mnum_proc,\n\u001b[1;32m    834\u001b[0m             desc\u001b[38;5;241m=\u001b[39mdesc,\n\u001b[1;32m    835\u001b[0m         )\n\u001b[1;32m    836\u001b[0m         \u001b[38;5;28;01mfor\u001b[39;00m k, dataset \u001b[38;5;129;01min\u001b[39;00m \u001b[38;5;28mself\u001b[39m\u001b[38;5;241m.\u001b[39mitems()\n\u001b[1;32m    837\u001b[0m     }\n\u001b[1;32m    838\u001b[0m )\n",
      "File \u001b[0;32m/Users/ujan/opt/anaconda3/envs/x-transfer/lib/python3.10/site-packages/datasets/dataset_dict.py:817\u001b[0m, in \u001b[0;36m<dictcomp>\u001b[0;34m(.0)\u001b[0m\n\u001b[1;32m    813\u001b[0m \u001b[38;5;28;01mif\u001b[39;00m cache_file_names \u001b[38;5;129;01mis\u001b[39;00m \u001b[38;5;28;01mNone\u001b[39;00m:\n\u001b[1;32m    814\u001b[0m     cache_file_names \u001b[38;5;241m=\u001b[39m {k: \u001b[38;5;28;01mNone\u001b[39;00m \u001b[38;5;28;01mfor\u001b[39;00m k \u001b[38;5;129;01min\u001b[39;00m \u001b[38;5;28mself\u001b[39m}\n\u001b[1;32m    815\u001b[0m \u001b[38;5;28;01mreturn\u001b[39;00m DatasetDict(\n\u001b[1;32m    816\u001b[0m     {\n\u001b[0;32m--> 817\u001b[0m         k: \u001b[43mdataset\u001b[49m\u001b[38;5;241;43m.\u001b[39;49m\u001b[43mmap\u001b[49m\u001b[43m(\u001b[49m\n\u001b[1;32m    818\u001b[0m \u001b[43m            \u001b[49m\u001b[43mfunction\u001b[49m\u001b[38;5;241;43m=\u001b[39;49m\u001b[43mfunction\u001b[49m\u001b[43m,\u001b[49m\n\u001b[1;32m    819\u001b[0m \u001b[43m            \u001b[49m\u001b[43mwith_indices\u001b[49m\u001b[38;5;241;43m=\u001b[39;49m\u001b[43mwith_indices\u001b[49m\u001b[43m,\u001b[49m\n\u001b[1;32m    820\u001b[0m \u001b[43m            \u001b[49m\u001b[43mwith_rank\u001b[49m\u001b[38;5;241;43m=\u001b[39;49m\u001b[43mwith_rank\u001b[49m\u001b[43m,\u001b[49m\n\u001b[1;32m    821\u001b[0m \u001b[43m            \u001b[49m\u001b[43minput_columns\u001b[49m\u001b[38;5;241;43m=\u001b[39;49m\u001b[43minput_columns\u001b[49m\u001b[43m,\u001b[49m\n\u001b[1;32m    822\u001b[0m \u001b[43m            \u001b[49m\u001b[43mbatched\u001b[49m\u001b[38;5;241;43m=\u001b[39;49m\u001b[43mbatched\u001b[49m\u001b[43m,\u001b[49m\n\u001b[1;32m    823\u001b[0m \u001b[43m            \u001b[49m\u001b[43mbatch_size\u001b[49m\u001b[38;5;241;43m=\u001b[39;49m\u001b[43mbatch_size\u001b[49m\u001b[43m,\u001b[49m\n\u001b[1;32m    824\u001b[0m \u001b[43m            \u001b[49m\u001b[43mdrop_last_batch\u001b[49m\u001b[38;5;241;43m=\u001b[39;49m\u001b[43mdrop_last_batch\u001b[49m\u001b[43m,\u001b[49m\n\u001b[1;32m    825\u001b[0m \u001b[43m            \u001b[49m\u001b[43mremove_columns\u001b[49m\u001b[38;5;241;43m=\u001b[39;49m\u001b[43mremove_columns\u001b[49m\u001b[43m,\u001b[49m\n\u001b[1;32m    826\u001b[0m \u001b[43m            \u001b[49m\u001b[43mkeep_in_memory\u001b[49m\u001b[38;5;241;43m=\u001b[39;49m\u001b[43mkeep_in_memory\u001b[49m\u001b[43m,\u001b[49m\n\u001b[1;32m    827\u001b[0m \u001b[43m            \u001b[49m\u001b[43mload_from_cache_file\u001b[49m\u001b[38;5;241;43m=\u001b[39;49m\u001b[43mload_from_cache_file\u001b[49m\u001b[43m,\u001b[49m\n\u001b[1;32m    828\u001b[0m \u001b[43m            \u001b[49m\u001b[43mcache_file_name\u001b[49m\u001b[38;5;241;43m=\u001b[39;49m\u001b[43mcache_file_names\u001b[49m\u001b[43m[\u001b[49m\u001b[43mk\u001b[49m\u001b[43m]\u001b[49m\u001b[43m,\u001b[49m\n\u001b[1;32m    829\u001b[0m \u001b[43m            \u001b[49m\u001b[43mwriter_batch_size\u001b[49m\u001b[38;5;241;43m=\u001b[39;49m\u001b[43mwriter_batch_size\u001b[49m\u001b[43m,\u001b[49m\n\u001b[1;32m    830\u001b[0m \u001b[43m            \u001b[49m\u001b[43mfeatures\u001b[49m\u001b[38;5;241;43m=\u001b[39;49m\u001b[43mfeatures\u001b[49m\u001b[43m,\u001b[49m\n\u001b[1;32m    831\u001b[0m \u001b[43m            \u001b[49m\u001b[43mdisable_nullable\u001b[49m\u001b[38;5;241;43m=\u001b[39;49m\u001b[43mdisable_nullable\u001b[49m\u001b[43m,\u001b[49m\n\u001b[1;32m    832\u001b[0m \u001b[43m            \u001b[49m\u001b[43mfn_kwargs\u001b[49m\u001b[38;5;241;43m=\u001b[39;49m\u001b[43mfn_kwargs\u001b[49m\u001b[43m,\u001b[49m\n\u001b[1;32m    833\u001b[0m \u001b[43m            \u001b[49m\u001b[43mnum_proc\u001b[49m\u001b[38;5;241;43m=\u001b[39;49m\u001b[43mnum_proc\u001b[49m\u001b[43m,\u001b[49m\n\u001b[1;32m    834\u001b[0m \u001b[43m            \u001b[49m\u001b[43mdesc\u001b[49m\u001b[38;5;241;43m=\u001b[39;49m\u001b[43mdesc\u001b[49m\u001b[43m,\u001b[49m\n\u001b[1;32m    835\u001b[0m \u001b[43m        \u001b[49m\u001b[43m)\u001b[49m\n\u001b[1;32m    836\u001b[0m         \u001b[38;5;28;01mfor\u001b[39;00m k, dataset \u001b[38;5;129;01min\u001b[39;00m \u001b[38;5;28mself\u001b[39m\u001b[38;5;241m.\u001b[39mitems()\n\u001b[1;32m    837\u001b[0m     }\n\u001b[1;32m    838\u001b[0m )\n",
      "File \u001b[0;32m/Users/ujan/opt/anaconda3/envs/x-transfer/lib/python3.10/site-packages/datasets/arrow_dataset.py:2826\u001b[0m, in \u001b[0;36mDataset.map\u001b[0;34m(self, function, with_indices, with_rank, input_columns, batched, batch_size, drop_last_batch, remove_columns, keep_in_memory, load_from_cache_file, cache_file_name, writer_batch_size, features, disable_nullable, fn_kwargs, num_proc, suffix_template, new_fingerprint, desc)\u001b[0m\n\u001b[1;32m   2823\u001b[0m disable_tqdm \u001b[38;5;241m=\u001b[39m \u001b[38;5;129;01mnot\u001b[39;00m logging\u001b[38;5;241m.\u001b[39mis_progress_bar_enabled()\n\u001b[1;32m   2825\u001b[0m \u001b[38;5;28;01mif\u001b[39;00m num_proc \u001b[38;5;129;01mis\u001b[39;00m \u001b[38;5;28;01mNone\u001b[39;00m \u001b[38;5;129;01mor\u001b[39;00m num_proc \u001b[38;5;241m==\u001b[39m \u001b[38;5;241m1\u001b[39m:\n\u001b[0;32m-> 2826\u001b[0m     \u001b[38;5;28;01mreturn\u001b[39;00m \u001b[38;5;28;43mself\u001b[39;49m\u001b[38;5;241;43m.\u001b[39;49m\u001b[43m_map_single\u001b[49m\u001b[43m(\u001b[49m\n\u001b[1;32m   2827\u001b[0m \u001b[43m        \u001b[49m\u001b[43mfunction\u001b[49m\u001b[38;5;241;43m=\u001b[39;49m\u001b[43mfunction\u001b[49m\u001b[43m,\u001b[49m\n\u001b[1;32m   2828\u001b[0m \u001b[43m        \u001b[49m\u001b[43mwith_indices\u001b[49m\u001b[38;5;241;43m=\u001b[39;49m\u001b[43mwith_indices\u001b[49m\u001b[43m,\u001b[49m\n\u001b[1;32m   2829\u001b[0m \u001b[43m        \u001b[49m\u001b[43mwith_rank\u001b[49m\u001b[38;5;241;43m=\u001b[39;49m\u001b[43mwith_rank\u001b[49m\u001b[43m,\u001b[49m\n\u001b[1;32m   2830\u001b[0m \u001b[43m        \u001b[49m\u001b[43minput_columns\u001b[49m\u001b[38;5;241;43m=\u001b[39;49m\u001b[43minput_columns\u001b[49m\u001b[43m,\u001b[49m\n\u001b[1;32m   2831\u001b[0m \u001b[43m        \u001b[49m\u001b[43mbatched\u001b[49m\u001b[38;5;241;43m=\u001b[39;49m\u001b[43mbatched\u001b[49m\u001b[43m,\u001b[49m\n\u001b[1;32m   2832\u001b[0m \u001b[43m        \u001b[49m\u001b[43mbatch_size\u001b[49m\u001b[38;5;241;43m=\u001b[39;49m\u001b[43mbatch_size\u001b[49m\u001b[43m,\u001b[49m\n\u001b[1;32m   2833\u001b[0m \u001b[43m        \u001b[49m\u001b[43mdrop_last_batch\u001b[49m\u001b[38;5;241;43m=\u001b[39;49m\u001b[43mdrop_last_batch\u001b[49m\u001b[43m,\u001b[49m\n\u001b[1;32m   2834\u001b[0m \u001b[43m        \u001b[49m\u001b[43mremove_columns\u001b[49m\u001b[38;5;241;43m=\u001b[39;49m\u001b[43mremove_columns\u001b[49m\u001b[43m,\u001b[49m\n\u001b[1;32m   2835\u001b[0m \u001b[43m        \u001b[49m\u001b[43mkeep_in_memory\u001b[49m\u001b[38;5;241;43m=\u001b[39;49m\u001b[43mkeep_in_memory\u001b[49m\u001b[43m,\u001b[49m\n\u001b[1;32m   2836\u001b[0m \u001b[43m        \u001b[49m\u001b[43mload_from_cache_file\u001b[49m\u001b[38;5;241;43m=\u001b[39;49m\u001b[43mload_from_cache_file\u001b[49m\u001b[43m,\u001b[49m\n\u001b[1;32m   2837\u001b[0m \u001b[43m        \u001b[49m\u001b[43mcache_file_name\u001b[49m\u001b[38;5;241;43m=\u001b[39;49m\u001b[43mcache_file_name\u001b[49m\u001b[43m,\u001b[49m\n\u001b[1;32m   2838\u001b[0m \u001b[43m        \u001b[49m\u001b[43mwriter_batch_size\u001b[49m\u001b[38;5;241;43m=\u001b[39;49m\u001b[43mwriter_batch_size\u001b[49m\u001b[43m,\u001b[49m\n\u001b[1;32m   2839\u001b[0m \u001b[43m        \u001b[49m\u001b[43mfeatures\u001b[49m\u001b[38;5;241;43m=\u001b[39;49m\u001b[43mfeatures\u001b[49m\u001b[43m,\u001b[49m\n\u001b[1;32m   2840\u001b[0m \u001b[43m        \u001b[49m\u001b[43mdisable_nullable\u001b[49m\u001b[38;5;241;43m=\u001b[39;49m\u001b[43mdisable_nullable\u001b[49m\u001b[43m,\u001b[49m\n\u001b[1;32m   2841\u001b[0m \u001b[43m        \u001b[49m\u001b[43mfn_kwargs\u001b[49m\u001b[38;5;241;43m=\u001b[39;49m\u001b[43mfn_kwargs\u001b[49m\u001b[43m,\u001b[49m\n\u001b[1;32m   2842\u001b[0m \u001b[43m        \u001b[49m\u001b[43mnew_fingerprint\u001b[49m\u001b[38;5;241;43m=\u001b[39;49m\u001b[43mnew_fingerprint\u001b[49m\u001b[43m,\u001b[49m\n\u001b[1;32m   2843\u001b[0m \u001b[43m        \u001b[49m\u001b[43mdisable_tqdm\u001b[49m\u001b[38;5;241;43m=\u001b[39;49m\u001b[43mdisable_tqdm\u001b[49m\u001b[43m,\u001b[49m\n\u001b[1;32m   2844\u001b[0m \u001b[43m        \u001b[49m\u001b[43mdesc\u001b[49m\u001b[38;5;241;43m=\u001b[39;49m\u001b[43mdesc\u001b[49m\u001b[43m,\u001b[49m\n\u001b[1;32m   2845\u001b[0m \u001b[43m    \u001b[49m\u001b[43m)\u001b[49m\n\u001b[1;32m   2846\u001b[0m \u001b[38;5;28;01melse\u001b[39;00m:\n\u001b[1;32m   2848\u001b[0m     \u001b[38;5;28;01mdef\u001b[39;00m \u001b[38;5;21mformat_cache_file_name\u001b[39m(cache_file_name, rank):\n",
      "File \u001b[0;32m/Users/ujan/opt/anaconda3/envs/x-transfer/lib/python3.10/site-packages/datasets/arrow_dataset.py:562\u001b[0m, in \u001b[0;36mtransmit_tasks.<locals>.wrapper\u001b[0;34m(*args, **kwargs)\u001b[0m\n\u001b[1;32m    560\u001b[0m     \u001b[38;5;28mself\u001b[39m: \u001b[38;5;124m\"\u001b[39m\u001b[38;5;124mDataset\u001b[39m\u001b[38;5;124m\"\u001b[39m \u001b[38;5;241m=\u001b[39m kwargs\u001b[38;5;241m.\u001b[39mpop(\u001b[38;5;124m\"\u001b[39m\u001b[38;5;124mself\u001b[39m\u001b[38;5;124m\"\u001b[39m)\n\u001b[1;32m    561\u001b[0m \u001b[38;5;66;03m# apply actual function\u001b[39;00m\n\u001b[0;32m--> 562\u001b[0m out: Union[\u001b[38;5;124m\"\u001b[39m\u001b[38;5;124mDataset\u001b[39m\u001b[38;5;124m\"\u001b[39m, \u001b[38;5;124m\"\u001b[39m\u001b[38;5;124mDatasetDict\u001b[39m\u001b[38;5;124m\"\u001b[39m] \u001b[38;5;241m=\u001b[39m \u001b[43mfunc\u001b[49m\u001b[43m(\u001b[49m\u001b[38;5;28;43mself\u001b[39;49m\u001b[43m,\u001b[49m\u001b[43m \u001b[49m\u001b[38;5;241;43m*\u001b[39;49m\u001b[43margs\u001b[49m\u001b[43m,\u001b[49m\u001b[43m \u001b[49m\u001b[38;5;241;43m*\u001b[39;49m\u001b[38;5;241;43m*\u001b[39;49m\u001b[43mkwargs\u001b[49m\u001b[43m)\u001b[49m\n\u001b[1;32m    563\u001b[0m datasets: List[\u001b[38;5;124m\"\u001b[39m\u001b[38;5;124mDataset\u001b[39m\u001b[38;5;124m\"\u001b[39m] \u001b[38;5;241m=\u001b[39m \u001b[38;5;28mlist\u001b[39m(out\u001b[38;5;241m.\u001b[39mvalues()) \u001b[38;5;28;01mif\u001b[39;00m \u001b[38;5;28misinstance\u001b[39m(out, \u001b[38;5;28mdict\u001b[39m) \u001b[38;5;28;01melse\u001b[39;00m [out]\n\u001b[1;32m    564\u001b[0m \u001b[38;5;28;01mfor\u001b[39;00m dataset \u001b[38;5;129;01min\u001b[39;00m datasets:\n\u001b[1;32m    565\u001b[0m     \u001b[38;5;66;03m# Remove task templates if a column mapping of the template is no longer valid\u001b[39;00m\n",
      "File \u001b[0;32m/Users/ujan/opt/anaconda3/envs/x-transfer/lib/python3.10/site-packages/datasets/arrow_dataset.py:529\u001b[0m, in \u001b[0;36mtransmit_format.<locals>.wrapper\u001b[0;34m(*args, **kwargs)\u001b[0m\n\u001b[1;32m    522\u001b[0m self_format \u001b[38;5;241m=\u001b[39m {\n\u001b[1;32m    523\u001b[0m     \u001b[38;5;124m\"\u001b[39m\u001b[38;5;124mtype\u001b[39m\u001b[38;5;124m\"\u001b[39m: \u001b[38;5;28mself\u001b[39m\u001b[38;5;241m.\u001b[39m_format_type,\n\u001b[1;32m    524\u001b[0m     \u001b[38;5;124m\"\u001b[39m\u001b[38;5;124mformat_kwargs\u001b[39m\u001b[38;5;124m\"\u001b[39m: \u001b[38;5;28mself\u001b[39m\u001b[38;5;241m.\u001b[39m_format_kwargs,\n\u001b[1;32m    525\u001b[0m     \u001b[38;5;124m\"\u001b[39m\u001b[38;5;124mcolumns\u001b[39m\u001b[38;5;124m\"\u001b[39m: \u001b[38;5;28mself\u001b[39m\u001b[38;5;241m.\u001b[39m_format_columns,\n\u001b[1;32m    526\u001b[0m     \u001b[38;5;124m\"\u001b[39m\u001b[38;5;124moutput_all_columns\u001b[39m\u001b[38;5;124m\"\u001b[39m: \u001b[38;5;28mself\u001b[39m\u001b[38;5;241m.\u001b[39m_output_all_columns,\n\u001b[1;32m    527\u001b[0m }\n\u001b[1;32m    528\u001b[0m \u001b[38;5;66;03m# apply actual function\u001b[39;00m\n\u001b[0;32m--> 529\u001b[0m out: Union[\u001b[38;5;124m\"\u001b[39m\u001b[38;5;124mDataset\u001b[39m\u001b[38;5;124m\"\u001b[39m, \u001b[38;5;124m\"\u001b[39m\u001b[38;5;124mDatasetDict\u001b[39m\u001b[38;5;124m\"\u001b[39m] \u001b[38;5;241m=\u001b[39m \u001b[43mfunc\u001b[49m\u001b[43m(\u001b[49m\u001b[38;5;28;43mself\u001b[39;49m\u001b[43m,\u001b[49m\u001b[43m \u001b[49m\u001b[38;5;241;43m*\u001b[39;49m\u001b[43margs\u001b[49m\u001b[43m,\u001b[49m\u001b[43m \u001b[49m\u001b[38;5;241;43m*\u001b[39;49m\u001b[38;5;241;43m*\u001b[39;49m\u001b[43mkwargs\u001b[49m\u001b[43m)\u001b[49m\n\u001b[1;32m    530\u001b[0m datasets: List[\u001b[38;5;124m\"\u001b[39m\u001b[38;5;124mDataset\u001b[39m\u001b[38;5;124m\"\u001b[39m] \u001b[38;5;241m=\u001b[39m \u001b[38;5;28mlist\u001b[39m(out\u001b[38;5;241m.\u001b[39mvalues()) \u001b[38;5;28;01mif\u001b[39;00m \u001b[38;5;28misinstance\u001b[39m(out, \u001b[38;5;28mdict\u001b[39m) \u001b[38;5;28;01melse\u001b[39;00m [out]\n\u001b[1;32m    531\u001b[0m \u001b[38;5;66;03m# re-apply format to the output\u001b[39;00m\n",
      "File \u001b[0;32m/Users/ujan/opt/anaconda3/envs/x-transfer/lib/python3.10/site-packages/datasets/fingerprint.py:480\u001b[0m, in \u001b[0;36mfingerprint_transform.<locals>._fingerprint.<locals>.wrapper\u001b[0;34m(*args, **kwargs)\u001b[0m\n\u001b[1;32m    476\u001b[0m             validate_fingerprint(kwargs[fingerprint_name])\n\u001b[1;32m    478\u001b[0m \u001b[38;5;66;03m# Call actual function\u001b[39;00m\n\u001b[0;32m--> 480\u001b[0m out \u001b[38;5;241m=\u001b[39m \u001b[43mfunc\u001b[49m\u001b[43m(\u001b[49m\u001b[38;5;28;43mself\u001b[39;49m\u001b[43m,\u001b[49m\u001b[43m \u001b[49m\u001b[38;5;241;43m*\u001b[39;49m\u001b[43margs\u001b[49m\u001b[43m,\u001b[49m\u001b[43m \u001b[49m\u001b[38;5;241;43m*\u001b[39;49m\u001b[38;5;241;43m*\u001b[39;49m\u001b[43mkwargs\u001b[49m\u001b[43m)\u001b[49m\n\u001b[1;32m    482\u001b[0m \u001b[38;5;66;03m# Update fingerprint of in-place transforms + update in-place history of transforms\u001b[39;00m\n\u001b[1;32m    484\u001b[0m \u001b[38;5;28;01mif\u001b[39;00m inplace:  \u001b[38;5;66;03m# update after calling func so that the fingerprint doesn't change if the function fails\u001b[39;00m\n",
      "File \u001b[0;32m/Users/ujan/opt/anaconda3/envs/x-transfer/lib/python3.10/site-packages/datasets/arrow_dataset.py:3247\u001b[0m, in \u001b[0;36mDataset._map_single\u001b[0;34m(self, function, with_indices, with_rank, input_columns, batched, batch_size, drop_last_batch, remove_columns, keep_in_memory, load_from_cache_file, cache_file_name, writer_batch_size, features, disable_nullable, fn_kwargs, new_fingerprint, rank, offset, disable_tqdm, desc, cache_only)\u001b[0m\n\u001b[1;32m   3243\u001b[0m indices \u001b[38;5;241m=\u001b[39m \u001b[38;5;28mlist\u001b[39m(\n\u001b[1;32m   3244\u001b[0m     \u001b[38;5;28mrange\u001b[39m(\u001b[38;5;241m*\u001b[39m(\u001b[38;5;28mslice\u001b[39m(i, i \u001b[38;5;241m+\u001b[39m batch_size)\u001b[38;5;241m.\u001b[39mindices(input_dataset\u001b[38;5;241m.\u001b[39mnum_rows)))\n\u001b[1;32m   3245\u001b[0m )  \u001b[38;5;66;03m# Something simpler?\u001b[39;00m\n\u001b[1;32m   3246\u001b[0m \u001b[38;5;28;01mtry\u001b[39;00m:\n\u001b[0;32m-> 3247\u001b[0m     batch \u001b[38;5;241m=\u001b[39m \u001b[43mapply_function_on_filtered_inputs\u001b[49m\u001b[43m(\u001b[49m\n\u001b[1;32m   3248\u001b[0m \u001b[43m        \u001b[49m\u001b[43mbatch\u001b[49m\u001b[43m,\u001b[49m\n\u001b[1;32m   3249\u001b[0m \u001b[43m        \u001b[49m\u001b[43mindices\u001b[49m\u001b[43m,\u001b[49m\n\u001b[1;32m   3250\u001b[0m \u001b[43m        \u001b[49m\u001b[43mcheck_same_num_examples\u001b[49m\u001b[38;5;241;43m=\u001b[39;49m\u001b[38;5;28;43mlen\u001b[39;49m\u001b[43m(\u001b[49m\u001b[43minput_dataset\u001b[49m\u001b[38;5;241;43m.\u001b[39;49m\u001b[43mlist_indexes\u001b[49m\u001b[43m(\u001b[49m\u001b[43m)\u001b[49m\u001b[43m)\u001b[49m\u001b[43m \u001b[49m\u001b[38;5;241;43m>\u001b[39;49m\u001b[43m \u001b[49m\u001b[38;5;241;43m0\u001b[39;49m\u001b[43m,\u001b[49m\n\u001b[1;32m   3251\u001b[0m \u001b[43m        \u001b[49m\u001b[43moffset\u001b[49m\u001b[38;5;241;43m=\u001b[39;49m\u001b[43moffset\u001b[49m\u001b[43m,\u001b[49m\n\u001b[1;32m   3252\u001b[0m \u001b[43m    \u001b[49m\u001b[43m)\u001b[49m\n\u001b[1;32m   3253\u001b[0m \u001b[38;5;28;01mexcept\u001b[39;00m NumExamplesMismatchError:\n\u001b[1;32m   3254\u001b[0m     \u001b[38;5;28;01mraise\u001b[39;00m DatasetTransformationNotAllowedError(\n\u001b[1;32m   3255\u001b[0m         \u001b[38;5;124m\"\u001b[39m\u001b[38;5;124mUsing `.map` in batched mode on a dataset with attached indexes is allowed only if it doesn\u001b[39m\u001b[38;5;124m'\u001b[39m\u001b[38;5;124mt create or remove existing examples. You can first run `.drop_index() to remove your index and then re-add it.\u001b[39m\u001b[38;5;124m\"\u001b[39m\n\u001b[1;32m   3256\u001b[0m     ) \u001b[38;5;28;01mfrom\u001b[39;00m \u001b[38;5;28mNone\u001b[39m\n",
      "File \u001b[0;32m/Users/ujan/opt/anaconda3/envs/x-transfer/lib/python3.10/site-packages/datasets/arrow_dataset.py:3123\u001b[0m, in \u001b[0;36mDataset._map_single.<locals>.apply_function_on_filtered_inputs\u001b[0;34m(pa_inputs, indices, check_same_num_examples, offset)\u001b[0m\n\u001b[1;32m   3121\u001b[0m \u001b[38;5;28;01mif\u001b[39;00m with_rank:\n\u001b[1;32m   3122\u001b[0m     additional_args \u001b[38;5;241m+\u001b[39m\u001b[38;5;241m=\u001b[39m (rank,)\n\u001b[0;32m-> 3123\u001b[0m processed_inputs \u001b[38;5;241m=\u001b[39m \u001b[43mfunction\u001b[49m\u001b[43m(\u001b[49m\u001b[38;5;241;43m*\u001b[39;49m\u001b[43mfn_args\u001b[49m\u001b[43m,\u001b[49m\u001b[43m \u001b[49m\u001b[38;5;241;43m*\u001b[39;49m\u001b[43madditional_args\u001b[49m\u001b[43m,\u001b[49m\u001b[43m \u001b[49m\u001b[38;5;241;43m*\u001b[39;49m\u001b[38;5;241;43m*\u001b[39;49m\u001b[43mfn_kwargs\u001b[49m\u001b[43m)\u001b[49m\n\u001b[1;32m   3124\u001b[0m \u001b[38;5;28;01mif\u001b[39;00m \u001b[38;5;28misinstance\u001b[39m(processed_inputs, LazyDict):\n\u001b[1;32m   3125\u001b[0m     processed_inputs \u001b[38;5;241m=\u001b[39m {\n\u001b[1;32m   3126\u001b[0m         k: v \u001b[38;5;28;01mfor\u001b[39;00m k, v \u001b[38;5;129;01min\u001b[39;00m processed_inputs\u001b[38;5;241m.\u001b[39mdata\u001b[38;5;241m.\u001b[39mitems() \u001b[38;5;28;01mif\u001b[39;00m k \u001b[38;5;129;01mnot\u001b[39;00m \u001b[38;5;129;01min\u001b[39;00m processed_inputs\u001b[38;5;241m.\u001b[39mkeys_to_format\n\u001b[1;32m   3127\u001b[0m     }\n",
      "Cell \u001b[0;32mIn[50], line 24\u001b[0m, in \u001b[0;36mdistance_map\u001b[0;34m(batch)\u001b[0m\n\u001b[1;32m     22\u001b[0m \u001b[38;5;28mprint\u001b[39m(\u001b[38;5;124m'\u001b[39m\u001b[38;5;124mdist matrix\u001b[39m\u001b[38;5;124m'\u001b[39m)\n\u001b[1;32m     23\u001b[0m \u001b[38;5;28mprint\u001b[39m(dist_matrix)\n\u001b[0;32m---> 24\u001b[0m \u001b[38;5;28;01mraise\u001b[39;00m\n",
      "\u001b[0;31mRuntimeError\u001b[0m: No active exception to reraise"
     ]
    }
   ],
   "source": [
    "def distance_map(batch):\n",
    "    ids = batch['idx']\n",
    "    tokens = batch['tokens']\n",
    "    text = batch['text']\n",
    "    heads = batch['head']\n",
    "    \n",
    "    \n",
    "    batch_size = len(heads)\n",
    "    for b in range(batch_size):\n",
    "        head_list = heads[b]\n",
    "        print(head_list)\n",
    "        seq_len = len(head_list)\n",
    "        print(seq_len)\n",
    "        graph = np.zeros((seq_len, seq_len))\n",
    "        # populate adjacency matrix\n",
    "        for s in range(seq_len):\n",
    "            if head_list[s] != 0:\n",
    "                graph[s, int(head_list[s])-1] = 1\n",
    "        print('graph')\n",
    "        print(graph)\n",
    "        dist_matrix = floyd_warshall(csgraph=graph, directed=False, unweighted=True)\n",
    "        print('dist matrix')\n",
    "        print(dist_matrix)\n",
    "        raise\n",
    "\n",
    "    # compute adj matrix\n",
    "    \n",
    "dataset.map(distance_map, batched=True, batch_size=4)"
   ]
  },
  {
   "cell_type": "code",
   "execution_count": 48,
   "id": "fb7100aa",
   "metadata": {},
   "outputs": [
    {
     "data": {
      "text/plain": [
       "array([[0., 0., 0.],\n",
       "       [0., 3., 0.],\n",
       "       [0., 0., 0.]])"
      ]
     },
     "execution_count": 48,
     "metadata": {},
     "output_type": "execute_result"
    }
   ],
   "source": [
    "graph"
   ]
  },
  {
   "cell_type": "code",
   "execution_count": 24,
   "id": "07361ea7",
   "metadata": {},
   "outputs": [
    {
     "data": {
      "text/plain": [
       "array([[0, 1, 0, 0, 0],\n",
       "       [1, 0, 1, 1, 0],\n",
       "       [0, 1, 0, 0, 0],\n",
       "       [0, 1, 0, 0, 1],\n",
       "       [0, 0, 0, 1, 0]])"
      ]
     },
     "execution_count": 24,
     "metadata": {},
     "output_type": "execute_result"
    }
   ],
   "source": [
    "a = np.array([\n",
    "    [0, 1, 0, 0, 0],\n",
    "    [1, 0, 1, 1, 0],\n",
    "    [0, 1, 0, 0, 0],\n",
    "    [0, 1, 0, 0, 1],\n",
    "    [0, 0, 0, 1, 0]\n",
    "])\n",
    "\n",
    "a"
   ]
  },
  {
   "cell_type": "code",
   "execution_count": 25,
   "id": "ba746d1c",
   "metadata": {},
   "outputs": [
    {
     "data": {
      "text/plain": [
       "array([[0., 1., 2., 2., 3.],\n",
       "       [1., 0., 1., 1., 2.],\n",
       "       [2., 1., 0., 2., 3.],\n",
       "       [2., 1., 2., 0., 1.],\n",
       "       [3., 2., 3., 1., 0.]])"
      ]
     },
     "execution_count": 25,
     "metadata": {},
     "output_type": "execute_result"
    }
   ],
   "source": [
    "dist_matrix = floyd_warshall(csgraph=a, directed=False, unweighted=True)\n",
    "dist_matrix"
   ]
  },
  {
   "cell_type": "code",
   "execution_count": 21,
   "id": "0fd0b19d",
   "metadata": {},
   "outputs": [
    {
     "data": {
      "text/plain": [
       "array([[0., 1., 2., 2., 3.],\n",
       "       [1., 0., 1., 1., 2.],\n",
       "       [2., 1., 0., 2., 3.],\n",
       "       [2., 1., 2., 0., 1.],\n",
       "       [3., 2., 3., 1., 0.]])"
      ]
     },
     "execution_count": 21,
     "metadata": {},
     "output_type": "execute_result"
    }
   ],
   "source": [
    "dist_matrix = floyd_warshall(csgraph=graph, directed=False)\n",
    "dist_matrix"
   ]
  },
  {
   "cell_type": "code",
   "execution_count": 14,
   "id": "061d79df",
   "metadata": {},
   "outputs": [
    {
     "data": {
      "text/plain": [
       "array([[0., 0., 0.],\n",
       "       [0., 3., 0.],\n",
       "       [0., 0., 0.]])"
      ]
     },
     "execution_count": 14,
     "metadata": {},
     "output_type": "execute_result"
    }
   ],
   "source": [
    "graph = np.zeros((3, 3))\n",
    "graph[1,1] = 3\n",
    "graph"
   ]
  },
  {
   "cell_type": "code",
   "execution_count": 57,
   "id": "5a9ce126",
   "metadata": {},
   "outputs": [
    {
     "data": {
      "text/plain": [
       "[array([1., 1., 1.]), array([0., 0., 0.])]"
      ]
     },
     "execution_count": 57,
     "metadata": {},
     "output_type": "execute_result"
    }
   ],
   "source": [
    "a = np.ones(3)\n",
    "b = np.zeros(3)\n",
    "l = []\n",
    "l.append(a)\n",
    "l.append(b)\n",
    "l"
   ]
  },
  {
   "cell_type": "code",
   "execution_count": 58,
   "id": "4befc234",
   "metadata": {},
   "outputs": [
    {
     "data": {
      "text/plain": [
       "array([[1., 1., 1.],\n",
       "       [0., 0., 0.]])"
      ]
     },
     "execution_count": 58,
     "metadata": {},
     "output_type": "execute_result"
    }
   ],
   "source": [
    "np.array(l)"
   ]
  },
  {
   "cell_type": "code",
   "execution_count": 59,
   "id": "b430b145",
   "metadata": {},
   "outputs": [
    {
     "data": {
      "text/plain": [
       "(2, 3)"
      ]
     },
     "execution_count": 59,
     "metadata": {},
     "output_type": "execute_result"
    }
   ],
   "source": [
    "np.array(l).shape"
   ]
  },
  {
   "cell_type": "code",
   "execution_count": null,
   "id": "9b5ce9dc",
   "metadata": {},
   "outputs": [],
   "source": []
  }
 ],
 "metadata": {
  "kernelspec": {
   "display_name": "Python 3 (ipykernel)",
   "language": "python",
   "name": "python3"
  },
  "language_info": {
   "codemirror_mode": {
    "name": "ipython",
    "version": 3
   },
   "file_extension": ".py",
   "mimetype": "text/x-python",
   "name": "python",
   "nbconvert_exporter": "python",
   "pygments_lexer": "ipython3",
   "version": "3.10.9"
  }
 },
 "nbformat": 4,
 "nbformat_minor": 5
}
