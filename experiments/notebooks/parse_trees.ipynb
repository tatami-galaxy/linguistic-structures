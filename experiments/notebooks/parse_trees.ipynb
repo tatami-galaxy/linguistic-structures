{
 "cells": [
  {
   "cell_type": "code",
   "execution_count": 15,
   "id": "48f6169f",
   "metadata": {},
   "outputs": [],
   "source": [
    "def load_conll_dataset(filepath):\n",
    "    '''Reads in a conllx file; generates Observation objects\n",
    "    \n",
    "    For each sentence in a conllx file, generates a single Observation\n",
    "    object.\n",
    "\n",
    "    Args:\n",
    "      filepath: the filesystem path to the conll dataset\n",
    "  \n",
    "    Returns:\n",
    "      A list of Observations \n",
    "    '''\n",
    "    observations = []\n",
    "    lines = (x for x in open(filepath))\n",
    "    for buf in generate_lines_for_sent(lines):\n",
    "        conllx_lines = []\n",
    "        for line in buf:\n",
    "            conllx_lines.append(line.strip().split('\\t'))\n",
    "        embeddings = [None for x in range(len(conllx_lines))]\n",
    "        #observation = self.observation_class(*zip(*conllx_lines), embeddings)\n",
    "        #observations.append(observation)\n",
    "    return conllx_lines\n",
    "    #return observations\n",
    "\n",
    "def generate_lines_for_sent(lines):\n",
    "    '''Yields batches of lines describing a sentence in conllx.\n",
    "\n",
    "    Args:\n",
    "      lines: Each line of a conllx file.\n",
    "    Yields:\n",
    "      a list of lines describing a single sentence in conllx.\n",
    "    '''\n",
    "    buf = []\n",
    "    for line in lines:\n",
    "        if line.startswith('#'):\n",
    "            continue\n",
    "        if not line.strip():\n",
    "            if buf:\n",
    "                yield buf\n",
    "                buf = []\n",
    "            else:\n",
    "                continue\n",
    "        else:\n",
    "            buf.append(line.strip())\n",
    "    print(buf)\n",
    "    if buf:\n",
    "        print(count)\n",
    "        yield buf"
   ]
  },
  {
   "cell_type": "code",
   "execution_count": 16,
   "id": "8369dc3f",
   "metadata": {},
   "outputs": [
    {
     "name": "stdout",
     "output_type": "stream",
     "text": [
      "[]\n"
     ]
    }
   ],
   "source": [
    "lines = load_conll_dataset(\"/users/ujan/linguistic-structures/data/raw/Universal Dependencies 2.11/ud-treebanks-v2.11/UD_English-LinES/en_lines-ud-train.conllu\")"
   ]
  },
  {
   "cell_type": "code",
   "execution_count": 14,
   "id": "5d5deb3a",
   "metadata": {},
   "outputs": [
    {
     "data": {
      "text/plain": [
       "12"
      ]
     },
     "execution_count": 14,
     "metadata": {},
     "output_type": "execute_result"
    }
   ],
   "source": [
    "len(lines)"
   ]
  },
  {
   "cell_type": "code",
   "execution_count": 1,
   "id": "fe81752a",
   "metadata": {},
   "outputs": [],
   "source": [
    "import datasets\n",
    "from datasets import load_dataset"
   ]
  },
  {
   "cell_type": "code",
   "execution_count": 4,
   "id": "4035b09c",
   "metadata": {},
   "outputs": [],
   "source": [
    "en_treebanks = ['en_esl', 'en_ewt', 'en_gum', 'en_gumreddit', 'en_lines', 'en_partut', 'en_pronouns', 'en_pud']"
   ]
  },
  {
   "cell_type": "code",
   "execution_count": 5,
   "id": "1d5ac94c",
   "metadata": {},
   "outputs": [
    {
     "name": "stdout",
     "output_type": "stream",
     "text": [
      "Downloading and preparing dataset universal_dependencies/en_esl to /users/ujan/.cache/huggingface/datasets/universal_dependencies/en_esl/2.7.0/1ac001f0e8a0021f19388e810c94599f3ac13cc45d6b5b8c69f7847b2188bdf7...\n"
     ]
    },
    {
     "data": {
      "application/vnd.jupyter.widget-view+json": {
       "model_id": "56e3f0e3be504d3e97fd11f78de89760",
       "version_major": 2,
       "version_minor": 0
      },
      "text/plain": [
       "Downloading data files:   0%|          | 0/3 [00:00<?, ?it/s]"
      ]
     },
     "metadata": {},
     "output_type": "display_data"
    },
    {
     "data": {
      "application/vnd.jupyter.widget-view+json": {
       "model_id": "95996e53445c4646a310228e7591057f",
       "version_major": 2,
       "version_minor": 0
      },
      "text/plain": [
       "Downloading data:   0%|          | 0.00/340k [00:00<?, ?B/s]"
      ]
     },
     "metadata": {},
     "output_type": "display_data"
    },
    {
     "data": {
      "application/vnd.jupyter.widget-view+json": {
       "model_id": "86dd05f934d345c4a6af32568ac665f8",
       "version_major": 2,
       "version_minor": 0
      },
      "text/plain": [
       "Downloading data:   0%|          | 0.00/42.8k [00:00<?, ?B/s]"
      ]
     },
     "metadata": {},
     "output_type": "display_data"
    },
    {
     "data": {
      "application/vnd.jupyter.widget-view+json": {
       "model_id": "6f7a2a6cff4148a6ba224aab91ade77c",
       "version_major": 2,
       "version_minor": 0
      },
      "text/plain": [
       "Downloading data:   0%|          | 0.00/43.1k [00:00<?, ?B/s]"
      ]
     },
     "metadata": {},
     "output_type": "display_data"
    },
    {
     "data": {
      "application/vnd.jupyter.widget-view+json": {
       "model_id": "1008f86efc174060b577f25c4b3c8cc8",
       "version_major": 2,
       "version_minor": 0
      },
      "text/plain": [
       "Extracting data files:   0%|          | 0/3 [00:00<?, ?it/s]"
      ]
     },
     "metadata": {},
     "output_type": "display_data"
    },
    {
     "data": {
      "application/vnd.jupyter.widget-view+json": {
       "model_id": "",
       "version_major": 2,
       "version_minor": 0
      },
      "text/plain": [
       "Generating train split:   0%|          | 0/4124 [00:00<?, ? examples/s]"
      ]
     },
     "metadata": {},
     "output_type": "display_data"
    },
    {
     "data": {
      "application/vnd.jupyter.widget-view+json": {
       "model_id": "",
       "version_major": 2,
       "version_minor": 0
      },
      "text/plain": [
       "Generating validation split:   0%|          | 0/500 [00:00<?, ? examples/s]"
      ]
     },
     "metadata": {},
     "output_type": "display_data"
    },
    {
     "data": {
      "application/vnd.jupyter.widget-view+json": {
       "model_id": "",
       "version_major": 2,
       "version_minor": 0
      },
      "text/plain": [
       "Generating test split:   0%|          | 0/500 [00:00<?, ? examples/s]"
      ]
     },
     "metadata": {},
     "output_type": "display_data"
    },
    {
     "name": "stdout",
     "output_type": "stream",
     "text": [
      "Dataset universal_dependencies downloaded and prepared to /users/ujan/.cache/huggingface/datasets/universal_dependencies/en_esl/2.7.0/1ac001f0e8a0021f19388e810c94599f3ac13cc45d6b5b8c69f7847b2188bdf7. Subsequent calls will reuse this data.\n"
     ]
    },
    {
     "data": {
      "application/vnd.jupyter.widget-view+json": {
       "model_id": "a893066139ee4fa79244e31eaabcc4ff",
       "version_major": 2,
       "version_minor": 0
      },
      "text/plain": [
       "  0%|          | 0/3 [00:00<?, ?it/s]"
      ]
     },
     "metadata": {},
     "output_type": "display_data"
    },
    {
     "name": "stdout",
     "output_type": "stream",
     "text": [
      "Downloading and preparing dataset universal_dependencies/en_ewt to /users/ujan/.cache/huggingface/datasets/universal_dependencies/en_ewt/2.7.0/1ac001f0e8a0021f19388e810c94599f3ac13cc45d6b5b8c69f7847b2188bdf7...\n"
     ]
    },
    {
     "data": {
      "application/vnd.jupyter.widget-view+json": {
       "model_id": "666b3093fe7d42a380e9034c8f7e2ce9",
       "version_major": 2,
       "version_minor": 0
      },
      "text/plain": [
       "Downloading data files:   0%|          | 0/3 [00:00<?, ?it/s]"
      ]
     },
     "metadata": {},
     "output_type": "display_data"
    },
    {
     "data": {
      "application/vnd.jupyter.widget-view+json": {
       "model_id": "5681f00816714ed2b3e8737b51160dba",
       "version_major": 2,
       "version_minor": 0
      },
      "text/plain": [
       "Downloading data:   0%|          | 0.00/2.51M [00:00<?, ?B/s]"
      ]
     },
     "metadata": {},
     "output_type": "display_data"
    },
    {
     "data": {
      "application/vnd.jupyter.widget-view+json": {
       "model_id": "8a9513a811b9470686b178476354c4bb",
       "version_major": 2,
       "version_minor": 0
      },
      "text/plain": [
       "Downloading data:   0%|          | 0.00/321k [00:00<?, ?B/s]"
      ]
     },
     "metadata": {},
     "output_type": "display_data"
    },
    {
     "data": {
      "application/vnd.jupyter.widget-view+json": {
       "model_id": "e51a46cfee0e409e990b1d2e9530645d",
       "version_major": 2,
       "version_minor": 0
      },
      "text/plain": [
       "Downloading data:   0%|          | 0.00/318k [00:00<?, ?B/s]"
      ]
     },
     "metadata": {},
     "output_type": "display_data"
    },
    {
     "data": {
      "application/vnd.jupyter.widget-view+json": {
       "model_id": "811870fea6ee41179b8a1b3b96fd84c1",
       "version_major": 2,
       "version_minor": 0
      },
      "text/plain": [
       "Extracting data files:   0%|          | 0/3 [00:00<?, ?it/s]"
      ]
     },
     "metadata": {},
     "output_type": "display_data"
    },
    {
     "data": {
      "application/vnd.jupyter.widget-view+json": {
       "model_id": "",
       "version_major": 2,
       "version_minor": 0
      },
      "text/plain": [
       "Generating train split:   0%|          | 0/12543 [00:00<?, ? examples/s]"
      ]
     },
     "metadata": {},
     "output_type": "display_data"
    },
    {
     "data": {
      "application/vnd.jupyter.widget-view+json": {
       "model_id": "",
       "version_major": 2,
       "version_minor": 0
      },
      "text/plain": [
       "Generating validation split:   0%|          | 0/2002 [00:00<?, ? examples/s]"
      ]
     },
     "metadata": {},
     "output_type": "display_data"
    },
    {
     "data": {
      "application/vnd.jupyter.widget-view+json": {
       "model_id": "1e2c8eff196d4c4295cfbe6f1a8cd642",
       "version_major": 2,
       "version_minor": 0
      },
      "text/plain": [
       "Generating test split:   0%|          | 0/2077 [00:00<?, ? examples/s]"
      ]
     },
     "metadata": {},
     "output_type": "display_data"
    },
    {
     "name": "stdout",
     "output_type": "stream",
     "text": [
      "Dataset universal_dependencies downloaded and prepared to /users/ujan/.cache/huggingface/datasets/universal_dependencies/en_ewt/2.7.0/1ac001f0e8a0021f19388e810c94599f3ac13cc45d6b5b8c69f7847b2188bdf7. Subsequent calls will reuse this data.\n"
     ]
    },
    {
     "data": {
      "application/vnd.jupyter.widget-view+json": {
       "model_id": "68282b45d8b44f1296f4955b562c1fd3",
       "version_major": 2,
       "version_minor": 0
      },
      "text/plain": [
       "  0%|          | 0/3 [00:00<?, ?it/s]"
      ]
     },
     "metadata": {},
     "output_type": "display_data"
    }
   ],
   "source": [
    "ud_en0 = load_dataset('universal_dependencies', en_treebanks[0])\n",
    "ud_en1 = load_dataset('universal_dependencies', en_treebanks[1])"
   ]
  },
  {
   "cell_type": "code",
   "execution_count": 15,
   "id": "985b9905",
   "metadata": {},
   "outputs": [
    {
     "data": {
      "text/plain": [
       "DatasetDict({\n",
       "    train: Dataset({\n",
       "        features: ['idx', 'text', 'tokens', 'lemmas', 'upos', 'xpos', 'feats', 'head', 'deprel', 'deps', 'misc'],\n",
       "        num_rows: 12543\n",
       "    })\n",
       "    validation: Dataset({\n",
       "        features: ['idx', 'text', 'tokens', 'lemmas', 'upos', 'xpos', 'feats', 'head', 'deprel', 'deps', 'misc'],\n",
       "        num_rows: 2002\n",
       "    })\n",
       "    test: Dataset({\n",
       "        features: ['idx', 'text', 'tokens', 'lemmas', 'upos', 'xpos', 'feats', 'head', 'deprel', 'deps', 'misc'],\n",
       "        num_rows: 2077\n",
       "    })\n",
       "})"
      ]
     },
     "execution_count": 15,
     "metadata": {},
     "output_type": "execute_result"
    }
   ],
   "source": [
    "ud_en1"
   ]
  },
  {
   "cell_type": "code",
   "execution_count": 16,
   "id": "4b934f0f",
   "metadata": {},
   "outputs": [
    {
     "data": {
      "text/plain": [
       "{'idx': 'weblog-juancole.com_juancole_20051126063000_ENG_20051126_063000-0014',\n",
       " 'text': 'In Suwayrah, Kut Province, two car bombs were discovered before they could be detonated.',\n",
       " 'tokens': ['In',\n",
       "  'Suwayrah',\n",
       "  ',',\n",
       "  'Kut',\n",
       "  'Province',\n",
       "  ',',\n",
       "  'two',\n",
       "  'car',\n",
       "  'bombs',\n",
       "  'were',\n",
       "  'discovered',\n",
       "  'before',\n",
       "  'they',\n",
       "  'could',\n",
       "  'be',\n",
       "  'detonated',\n",
       "  '.'],\n",
       " 'lemmas': ['in',\n",
       "  'Suwayrah',\n",
       "  ',',\n",
       "  'Kut',\n",
       "  'Province',\n",
       "  ',',\n",
       "  'two',\n",
       "  'car',\n",
       "  'bombs',\n",
       "  'be',\n",
       "  'discover',\n",
       "  'before',\n",
       "  'they',\n",
       "  'could',\n",
       "  'be',\n",
       "  'detonate',\n",
       "  '.'],\n",
       " 'upos': [2, 10, 1, 10, 10, 1, 3, 0, 0, 17, 16, 5, 11, 17, 17, 16, 1],\n",
       " 'xpos': ['IN',\n",
       "  'NNP',\n",
       "  ',',\n",
       "  'NNP',\n",
       "  'NNP',\n",
       "  ',',\n",
       "  'CD',\n",
       "  'NN',\n",
       "  'NN',\n",
       "  'VBD',\n",
       "  'VBN',\n",
       "  'IN',\n",
       "  'PRP',\n",
       "  'MD',\n",
       "  'VB',\n",
       "  'VBN',\n",
       "  '.'],\n",
       " 'feats': ['None',\n",
       "  \"{'Number': 'Sing'}\",\n",
       "  'None',\n",
       "  \"{'Number': 'Sing'}\",\n",
       "  \"{'Number': 'Sing'}\",\n",
       "  'None',\n",
       "  \"{'NumType': 'Card'}\",\n",
       "  \"{'Number': 'Sing'}\",\n",
       "  \"{'Number': 'Sing'}\",\n",
       "  \"{'Mood': 'Ind', 'Tense': 'Past', 'VerbForm': 'Fin'}\",\n",
       "  \"{'Tense': 'Past', 'VerbForm': 'Part', 'Voice': 'Pass'}\",\n",
       "  'None',\n",
       "  \"{'Case': 'Nom', 'Number': 'Plur', 'Person': '3', 'PronType': 'Prs'}\",\n",
       "  \"{'VerbForm': 'Fin'}\",\n",
       "  \"{'VerbForm': 'Inf'}\",\n",
       "  \"{'Tense': 'Past', 'VerbForm': 'Part', 'Voice': 'Pass'}\",\n",
       "  'None'],\n",
       " 'head': ['2',\n",
       "  '11',\n",
       "  '2',\n",
       "  '5',\n",
       "  '2',\n",
       "  '11',\n",
       "  '9',\n",
       "  '9',\n",
       "  '11',\n",
       "  '11',\n",
       "  '0',\n",
       "  '16',\n",
       "  '16',\n",
       "  '16',\n",
       "  '16',\n",
       "  '11',\n",
       "  '11'],\n",
       " 'deprel': ['case',\n",
       "  'obl',\n",
       "  'punct',\n",
       "  'compound',\n",
       "  'appos',\n",
       "  'punct',\n",
       "  'nummod',\n",
       "  'compound',\n",
       "  'nsubj:pass',\n",
       "  'aux:pass',\n",
       "  'root',\n",
       "  'mark',\n",
       "  'nsubj:pass',\n",
       "  'aux',\n",
       "  'aux:pass',\n",
       "  'advcl',\n",
       "  'punct'],\n",
       " 'deps': [\"[('case', 2)]\",\n",
       "  \"[('obl:in', 11)]\",\n",
       "  \"[('punct', 2)]\",\n",
       "  \"[('compound', 5)]\",\n",
       "  \"[('appos', 2)]\",\n",
       "  \"[('punct', 11)]\",\n",
       "  \"[('nummod', 9)]\",\n",
       "  \"[('compound', 9)]\",\n",
       "  \"[('nsubj:pass', 11)]\",\n",
       "  \"[('aux:pass', 11)]\",\n",
       "  \"[('root', 0)]\",\n",
       "  \"[('mark', 16)]\",\n",
       "  \"[('nsubj:pass', 16)]\",\n",
       "  \"[('aux', 16)]\",\n",
       "  \"[('aux:pass', 16)]\",\n",
       "  \"[('advcl:before', 11)]\",\n",
       "  \"[('punct', 11)]\"],\n",
       " 'misc': ['None',\n",
       "  \"{'SpaceAfter': 'No'}\",\n",
       "  'None',\n",
       "  'None',\n",
       "  \"{'SpaceAfter': 'No'}\",\n",
       "  'None',\n",
       "  'None',\n",
       "  'None',\n",
       "  'None',\n",
       "  'None',\n",
       "  'None',\n",
       "  'None',\n",
       "  'None',\n",
       "  'None',\n",
       "  'None',\n",
       "  \"{'SpaceAfter': 'No'}\",\n",
       "  'None']}"
      ]
     },
     "execution_count": 16,
     "metadata": {},
     "output_type": "execute_result"
    }
   ],
   "source": [
    "ud_en1['train'][13]"
   ]
  },
  {
   "cell_type": "code",
   "execution_count": 6,
   "id": "a300552f",
   "metadata": {
    "collapsed": true
   },
   "outputs": [
    {
     "data": {
      "text/plain": [
       "{'idx': 'en_lines-ud-train-doc1-3',\n",
       " 'text': 'Some of the content in this topic may not be applicable to some languages.',\n",
       " 'tokens': ['Some',\n",
       "  'of',\n",
       "  'the',\n",
       "  'content',\n",
       "  'in',\n",
       "  'this',\n",
       "  'topic',\n",
       "  'may',\n",
       "  'not',\n",
       "  'be',\n",
       "  'applicable',\n",
       "  'to',\n",
       "  'some',\n",
       "  'languages',\n",
       "  '.'],\n",
       " 'lemmas': ['some',\n",
       "  'of',\n",
       "  'the',\n",
       "  'content',\n",
       "  'in',\n",
       "  'this',\n",
       "  'topic',\n",
       "  'may',\n",
       "  'not',\n",
       "  'be',\n",
       "  'applicable',\n",
       "  'to',\n",
       "  'some',\n",
       "  'language',\n",
       "  '.'],\n",
       " 'upos': [11, 2, 8, 0, 2, 8, 0, 17, 7, 17, 6, 2, 8, 0, 1],\n",
       " 'xpos': ['IND',\n",
       "  None,\n",
       "  'DEF',\n",
       "  'SG-NOM',\n",
       "  None,\n",
       "  'DEM-SG',\n",
       "  'SG-NOM',\n",
       "  'PRES-AUX',\n",
       "  'NEG',\n",
       "  'INF',\n",
       "  'POS',\n",
       "  None,\n",
       "  'IND',\n",
       "  'PL-NOM',\n",
       "  'Period'],\n",
       " 'feats': [\"{'Case': 'Nom'}\",\n",
       "  'None',\n",
       "  \"{'Definite': 'Def', 'PronType': 'Art'}\",\n",
       "  \"{'Number': 'Sing'}\",\n",
       "  'None',\n",
       "  \"{'Number': 'Sing', 'PronType': 'Dem'}\",\n",
       "  \"{'Number': 'Sing'}\",\n",
       "  \"{'VerbForm': 'Fin'}\",\n",
       "  'None',\n",
       "  \"{'VerbForm': 'Inf'}\",\n",
       "  \"{'Degree': 'Pos'}\",\n",
       "  'None',\n",
       "  'None',\n",
       "  \"{'Number': 'Plur'}\",\n",
       "  'None'],\n",
       " 'head': ['11',\n",
       "  '4',\n",
       "  '4',\n",
       "  '1',\n",
       "  '7',\n",
       "  '7',\n",
       "  '4',\n",
       "  '11',\n",
       "  '11',\n",
       "  '11',\n",
       "  '0',\n",
       "  '14',\n",
       "  '14',\n",
       "  '11',\n",
       "  '11'],\n",
       " 'deprel': ['nsubj',\n",
       "  'case',\n",
       "  'det',\n",
       "  'nmod',\n",
       "  'case',\n",
       "  'det',\n",
       "  'nmod',\n",
       "  'aux',\n",
       "  'advmod',\n",
       "  'cop',\n",
       "  'root',\n",
       "  'case',\n",
       "  'det',\n",
       "  'nmod',\n",
       "  'punct'],\n",
       " 'deps': ['None',\n",
       "  'None',\n",
       "  'None',\n",
       "  'None',\n",
       "  'None',\n",
       "  'None',\n",
       "  'None',\n",
       "  'None',\n",
       "  'None',\n",
       "  'None',\n",
       "  'None',\n",
       "  'None',\n",
       "  'None',\n",
       "  'None',\n",
       "  'None'],\n",
       " 'misc': ['None',\n",
       "  'None',\n",
       "  'None',\n",
       "  'None',\n",
       "  'None',\n",
       "  'None',\n",
       "  'None',\n",
       "  'None',\n",
       "  'None',\n",
       "  'None',\n",
       "  'None',\n",
       "  'None',\n",
       "  'None',\n",
       "  \"{'SpaceAfter': 'No'}\",\n",
       "  'None']}"
      ]
     },
     "execution_count": 6,
     "metadata": {},
     "output_type": "execute_result"
    }
   ],
   "source": [
    "ud_en_lines['train'][2]"
   ]
  },
  {
   "cell_type": "code",
   "execution_count": null,
   "id": "05119721",
   "metadata": {},
   "outputs": [],
   "source": []
  }
 ],
 "metadata": {
  "kernelspec": {
   "display_name": "Python 3 (ipykernel)",
   "language": "python",
   "name": "python3"
  },
  "language_info": {
   "codemirror_mode": {
    "name": "ipython",
    "version": 3
   },
   "file_extension": ".py",
   "mimetype": "text/x-python",
   "name": "python",
   "nbconvert_exporter": "python",
   "pygments_lexer": "ipython3",
   "version": "3.10.9"
  }
 },
 "nbformat": 4,
 "nbformat_minor": 5
}
